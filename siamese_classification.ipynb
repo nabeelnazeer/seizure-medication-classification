{
 "cells": [
  {
   "cell_type": "code",
   "execution_count": null,
   "id": "67ae4fdb-fe83-4a24-8cec-d2689eb8804b",
   "metadata": {},
   "outputs": [],
   "source": [
    "#code for three class siamese classification\n",
    "import warnings\n"
   ]
  },
  {
   "cell_type": "code",
   "execution_count": 42,
   "id": "6feb5160-144a-4ea5-8d75-1bbc013d51d4",
   "metadata": {},
   "outputs": [],
   "source": [
    "#important imports\n",
    "import tensorflow as tf\n",
    "import numpy as np\n",
    "import shutil\n",
    "import matplotlib.pyplot as plt \n",
    "from sklearn.manifold import TSNE\n",
    "from sklearn.model_selection import train_test_split\n",
    "from tensorflow.keras.layers import Input, Conv2D, BatchNormalization, DepthwiseConv2D, Activation, AveragePooling2D, Dropout, SeparableConv2D, Flatten, Dense, concatenate, MaxPooling2D\n",
    "from keras.utils import plot_model\n",
    "from tensorflow.keras import backend as K\n",
    "import os\n",
    "from tensorflow.keras.constraints import max_norm\n",
    "from tensorflow.keras.models import Model\n",
    "import random\n",
    "from collections import deque\n",
    "from tqdm.keras import TqdmCallback\n",
    "from tensorflow.keras.regularizers import l1, l2, l1_l2\n",
    "from collections import defaultdict"
   ]
  },
  {
   "cell_type": "code",
   "execution_count": 2,
   "id": "6e85e153-26a6-40c9-a9c0-146c26fd75bd",
   "metadata": {},
   "outputs": [],
   "source": [
    "#original path for files\n",
    "\n",
    "file_path_dilantin =  'Siezure med dataset/dataset_used_in_CBMS_paper/fft_images_100Hz_ws_1_overlap_0.1_1Hz_50Hz/dilantin'\n",
    "file_path_keppra = 'Siezure med dataset/dataset_used_in_CBMS_paper/fft_images_100Hz_ws_1_overlap_0.1_1Hz_50Hz/keppra'\n",
    "file_path_none = 'Siezure med dataset/dataset_used_in_CBMS_paper/fft_images_100Hz_ws_1_overlap_0.1_1Hz_50Hz/none_0.15'"
   ]
  },
  {
   "cell_type": "code",
   "execution_count": 12,
   "id": "d6b92db9-434c-4dc4-804a-c60d9e0a899a",
   "metadata": {},
   "outputs": [],
   "source": [
    "def load_filenames(dilantin_path, keppra_path, none_path):\n",
    "    dilantin_files = [os.path.join(dilantin_path, f) for f in os.listdir(dilantin_path)]\n",
    "    keppra_files = [os.path.join(keppra_path, f) for f in os.listdir(keppra_path)]\n",
    "    none_files = [os.path.join(none_path, f) for f in os.listdir(none_path)]\n",
    "\n",
    "    data_files = dilantin_files + keppra_files + none_files\n",
    "    labels = [0]*len(dilantin_files) + [1]*len(keppra_files) + [2]*len(none_files)\n",
    "\n",
    "    data = list(zip(data_files, labels))\n",
    "\n",
    "    np.random.shuffle(data)\n",
    "\n",
    "    return data"
   ]
  },
  {
   "cell_type": "code",
   "execution_count": 16,
   "id": "5ff995e2-de48-4234-b5dd-5a45938ad588",
   "metadata": {},
   "outputs": [],
   "source": [
    "data = load_filenames(file_path_dilantin, file_path_keppra, file_path_none)"
   ]
  },
  {
   "cell_type": "code",
   "execution_count": 14,
   "id": "7954a0d4-a7ea-430f-a58b-0da216d5bfbe",
   "metadata": {},
   "outputs": [],
   "source": [
    "file_paths , labels = zip(*data)\n",
    "file_paths = list(file_paths)\n",
    "labels = list(labels)"
   ]
  },
  {
   "cell_type": "code",
   "execution_count": 17,
   "id": "60c5daf1-0e94-4620-a70f-eaa06f5a5b20",
   "metadata": {},
   "outputs": [],
   "source": [
    "train_files, test_files, train_labels, test_labels = train_test_split(file_paths,labels, test_size = 0.4, random_state = 42 )"
   ]
  },
  {
   "cell_type": "code",
   "execution_count": 18,
   "id": "adc864e5-47d6-45df-b0c9-02908fbd3c4f",
   "metadata": {},
   "outputs": [
    {
     "name": "stdout",
     "output_type": "stream",
     "text": [
      "training set size: 931\n",
      "testing set size: 621\n"
     ]
    }
   ],
   "source": [
    "print(f\"training set size: {len(train_files)}\")\n",
    "print(f'testing set size: {len(test_files)}')"
   ]
  },
  {
   "cell_type": "code",
   "execution_count": 19,
   "id": "0fef3888-df77-4700-985e-188d67880884",
   "metadata": {},
   "outputs": [
    {
     "name": "stdout",
     "output_type": "stream",
     "text": [
      "Counts: {'dilantin': 263, 'none': 339, 'keppra': 329}\n"
     ]
    }
   ],
   "source": [
    "dilanin_no =0\n",
    "keppra_no = 0\n",
    "none_no = 0\n",
    "def count_filenames(filenames):\n",
    "\n",
    "    count_dict = {'dilantin': 0, 'none': 0, 'keppra': 0}\n",
    "    \n",
    "    for filename in filenames:\n",
    "        for key in count_dict.keys():\n",
    "            if filename.lower().find(key.lower())!= -1:\n",
    "                count_dict[key] += 1\n",
    "                \n",
    "    return count_dict\n",
    "\n",
    "result = count_filenames(train_files)\n",
    "print(\"Counts:\", result)"
   ]
  },
  {
   "cell_type": "code",
   "execution_count": 46,
   "id": "eda34837-6171-4935-960c-086a00e33a80",
   "metadata": {},
   "outputs": [],
   "source": [
    "def load_data(file_paths, labels):\n",
    "    data_by_class = defaultdict(list)\n",
    "    for file_path, label in zip(file_paths, labels):\n",
    "        try:\n",
    "            data = np.load(file_path, allow_pickle=True).reshape(-1, 19, 50, 1).astype('float32') / 255\n",
    "            for sample in data:\n",
    "                data_by_class[label].append(sample)\n",
    "        except Exception as e:\n",
    "            print(f\"Error loading {file_path}: {e}\")\n",
    "    return data_by_class\n",
    "\n",
    "# Create triplets from loaded data\n",
    "def triplet_generator(data_by_class):\n",
    "    while True:\n",
    "        anchor_class = random.choice(list(data_by_class.keys()))\n",
    "        positive_class = anchor_class\n",
    "        negative_class = random.choice([cls for cls in data_by_class.keys() if cls != anchor_class])\n",
    "        \n",
    "        anchor = random.choice(data_by_class[anchor_class])\n",
    "        positive = random.choice([x for x in data_by_class[positive_class] if not np.array_equal(x, anchor)])\n",
    "        negative = random.choice(data_by_class[negative_class])\n",
    "        \n",
    "        yield (anchor, positive, negative), (0, 0, 0)  # Dummy labels\n",
    "\n",
    "# Create a TensorFlow dataset from the triplet generator\n",
    "def create_triplet_dataset(data_by_class, batch_size=32, buffer_size=10000):\n",
    "    dataset = tf.data.Dataset.from_generator(\n",
    "        lambda: triplet_generator(data_by_class),\n",
    "        output_signature=(\n",
    "            (tf.TensorSpec(shape=(19, 50, 1), dtype=tf.float32),\n",
    "             tf.TensorSpec(shape=(19, 50, 1), dtype=tf.float32),\n",
    "             tf.TensorSpec(shape=(19, 50, 1), dtype=tf.float32)),\n",
    "            tf.TensorSpec(shape=(3,), dtype=tf.int32)\n",
    "        )\n",
    "    )\n",
    "    dataset = dataset.shuffle(buffer_size)\n",
    "    dataset = dataset.batch(batch_size)\n",
    "    dataset = dataset.prefetch(tf.data.AUTOTUNE)\n",
    "    return dataset"
   ]
  },
  {
   "cell_type": "code",
   "execution_count": 47,
   "id": "90c14528-8f62-4b7c-8c06-ed46432a0a9c",
   "metadata": {},
   "outputs": [
    {
     "name": "stdout",
     "output_type": "stream",
     "text": [
      "Error loading Siezure med dataset/dataset_used_in_CBMS_paper/fft_images_100Hz_ws_1_overlap_0.1_1Hz_50Hz/dilantin/346_00003087_dilantin_montage_False.txt: No data left in file\n",
      "Error loading Siezure med dataset/dataset_used_in_CBMS_paper/fft_images_100Hz_ws_1_overlap_0.1_1Hz_50Hz/dilantin/.DS_Store: Failed to interpret file 'Siezure med dataset/dataset_used_in_CBMS_paper/fft_images_100Hz_ws_1_overlap_0.1_1Hz_50Hz/dilantin/.DS_Store' as a pickle\n",
      "Error loading Siezure med dataset/dataset_used_in_CBMS_paper/fft_images_100Hz_ws_1_overlap_0.1_1Hz_50Hz/none_0.15/.DS_Store: Failed to interpret file 'Siezure med dataset/dataset_used_in_CBMS_paper/fft_images_100Hz_ws_1_overlap_0.1_1Hz_50Hz/none_0.15/.DS_Store' as a pickle\n",
      "Error loading Siezure med dataset/dataset_used_in_CBMS_paper/fft_images_100Hz_ws_1_overlap_0.1_1Hz_50Hz/keppra/.DS_Store: Failed to interpret file 'Siezure med dataset/dataset_used_in_CBMS_paper/fft_images_100Hz_ws_1_overlap_0.1_1Hz_50Hz/keppra/.DS_Store' as a pickle\n"
     ]
    }
   ],
   "source": [
    "train_data = load_data(train_files, train_labels)\n",
    "test_data= load_data(test_files, test_labels)"
   ]
  },
  {
   "cell_type": "code",
   "execution_count": 48,
   "id": "5e24b605-ab9d-43c7-b998-ed9d479ff796",
   "metadata": {},
   "outputs": [
    {
     "data": {
      "text/plain": [
       "3"
      ]
     },
     "execution_count": 48,
     "metadata": {},
     "output_type": "execute_result"
    }
   ],
   "source": [
    "print"
   ]
  },
  {
   "cell_type": "code",
   "execution_count": 39,
   "id": "3426b996-d1d5-42a8-8855-cab857b24a98",
   "metadata": {},
   "outputs": [],
   "source": [
    "def triplet_loss(margin=1.0):\n",
    "    def loss(y_true, y_pred):\n",
    "        anchor, positive, negative = tf.split(y_pred, num_or_size_splits=3, axis=1)\n",
    "\n",
    "        pos_dist = tf.reduce_sum(tf.square(anchor - positive), axis=-1)\n",
    "        neg_dist = tf.reduce_sum(tf.square(anchor - negative), axis=-1)\n",
    "        basic_loss = pos_dist - neg_dist + margin\n",
    "        loss = tf.reduce_mean(tf.maximum(basic_loss, 0.0))\n",
    "        return loss\n",
    "    return loss"
   ]
  },
  {
   "cell_type": "code",
   "execution_count": 35,
   "id": "34aa04ef-d450-40e1-ae0f-24ed9a29526b",
   "metadata": {},
   "outputs": [],
   "source": [
    "def create_base_network(input_shape):\n",
    "    inputs = tf.keras.Input(shape=input_shape)\n",
    "    x = tf.keras.layers.Conv2D(32, (3, 3), activation='relu')(inputs)\n",
    "    x = tf.keras.layers.MaxPooling2D((2, 2))(x)\n",
    "    x = tf.keras.layers.Flatten()(x)\n",
    "    x = tf.keras.layers.Dense(128, activation='relu')(x)\n",
    "    x = tf.keras.layers.Dense(63, activation='relu')(x)  \n",
    "    return tf.keras.Model(inputs, x)\n",
    "\n",
    "input_shape = (19, 50, 1)\n",
    "base_network = create_base_network(input_shape)"
   ]
  },
  {
   "cell_type": "code",
   "execution_count": 36,
   "id": "e97c48c1-fcdb-4bdf-8c26-ad49c5131623",
   "metadata": {},
   "outputs": [],
   "source": [
    "anchor_input = tf.keras.Input(shape=input_shape, name=\"anchor\")\n",
    "positive_input = tf.keras.Input(shape=input_shape, name=\"positive\")\n",
    "negative_input = tf.keras.Input(shape=input_shape, name=\"negative\")\n",
    "\n",
    "\n",
    "anchor_embedding = base_network(anchor_input)\n",
    "positive_embedding = base_network(positive_input)\n",
    "negative_embedding = base_network(negative_input)\n",
    "\n",
    "\n",
    "siamese_network = Model(inputs=[anchor_input, positive_input, negative_input],\n",
    "                        outputs=[anchor_embedding, positive_embedding, negative_embedding])\n"
   ]
  },
  {
   "cell_type": "code",
   "execution_count": 43,
   "id": "f0e4948c-7158-40ab-9318-97fb89898b2e",
   "metadata": {},
   "outputs": [],
   "source": [
    "siamese_network.compile(optimizer='adam', loss=triplet_loss())"
   ]
  },
  {
   "cell_type": "code",
   "execution_count": 44,
   "id": "aace3eda-8a4c-457f-af56-aa75180316f2",
   "metadata": {},
   "outputs": [
    {
     "name": "stdout",
     "output_type": "stream",
     "text": [
      "Epoch 1/10\n",
      "   1761/Unknown \u001b[1m23s\u001b[0m 12ms/step - loss: 0.0671"
     ]
    },
    {
     "name": "stderr",
     "output_type": "stream",
     "text": [
      "2024-06-07 11:52:58.955002: W tensorflow/core/framework/op_kernel.cc:1827] UNKNOWN: EOFError: No data left in file\n",
      "Traceback (most recent call last):\n",
      "\n",
      "  File \"/opt/homebrew/lib/python3.11/site-packages/tensorflow/python/ops/script_ops.py\", line 270, in __call__\n",
      "    ret = func(*args)\n",
      "          ^^^^^^^^^^^\n",
      "\n",
      "  File \"/opt/homebrew/lib/python3.11/site-packages/tensorflow/python/autograph/impl/api.py\", line 643, in wrapper\n",
      "    return func(*args, **kwargs)\n",
      "           ^^^^^^^^^^^^^^^^^^^^^\n",
      "\n",
      "  File \"/opt/homebrew/lib/python3.11/site-packages/tensorflow/python/data/ops/from_generator_op.py\", line 198, in generator_py_func\n",
      "    values = next(generator_state.get_iterator(iterator_id))\n",
      "             ^^^^^^^^^^^^^^^^^^^^^^^^^^^^^^^^^^^^^^^^^^^^^^^\n",
      "\n",
      "  File \"/var/folders/63/_xq94k6j5hg9kn00zf6sz9k80000gn/T/ipykernel_5555/4269163512.py\", line 22, in data_generator_by_class\n",
      "    positive_data = np.load(positive_file, allow_pickle=True).reshape(-1, 19, 50, 1).astype('float32') / 255\n",
      "                    ^^^^^^^^^^^^^^^^^^^^^^^^^^^^^^^^^^^^^^^^^\n",
      "\n",
      "  File \"/opt/homebrew/lib/python3.11/site-packages/numpy/lib/npyio.py\", line 436, in load\n",
      "    raise EOFError(\"No data left in file\")\n",
      "\n",
      "EOFError: No data left in file\n",
      "\n",
      "\n",
      "2024-06-07 11:52:58.965373: W tensorflow/core/framework/local_rendezvous.cc:404] Local rendezvous is aborting with status: UNKNOWN: EOFError: No data left in file\n",
      "Traceback (most recent call last):\n",
      "\n",
      "  File \"/opt/homebrew/lib/python3.11/site-packages/tensorflow/python/ops/script_ops.py\", line 270, in __call__\n",
      "    ret = func(*args)\n",
      "          ^^^^^^^^^^^\n",
      "\n",
      "  File \"/opt/homebrew/lib/python3.11/site-packages/tensorflow/python/autograph/impl/api.py\", line 643, in wrapper\n",
      "    return func(*args, **kwargs)\n",
      "           ^^^^^^^^^^^^^^^^^^^^^\n",
      "\n",
      "  File \"/opt/homebrew/lib/python3.11/site-packages/tensorflow/python/data/ops/from_generator_op.py\", line 198, in generator_py_func\n",
      "    values = next(generator_state.get_iterator(iterator_id))\n",
      "             ^^^^^^^^^^^^^^^^^^^^^^^^^^^^^^^^^^^^^^^^^^^^^^^\n",
      "\n",
      "  File \"/var/folders/63/_xq94k6j5hg9kn00zf6sz9k80000gn/T/ipykernel_5555/4269163512.py\", line 22, in data_generator_by_class\n",
      "    positive_data = np.load(positive_file, allow_pickle=True).reshape(-1, 19, 50, 1).astype('float32') / 255\n",
      "                    ^^^^^^^^^^^^^^^^^^^^^^^^^^^^^^^^^^^^^^^^^\n",
      "\n",
      "  File \"/opt/homebrew/lib/python3.11/site-packages/numpy/lib/npyio.py\", line 436, in load\n",
      "    raise EOFError(\"No data left in file\")\n",
      "\n",
      "EOFError: No data left in file\n",
      "\n",
      "\n",
      "\t [[{{node PyFunc}}]]\n",
      "\t [[IteratorGetNext]]\n"
     ]
    },
    {
     "ename": "UnknownError",
     "evalue": "Graph execution error:\n\nDetected at node PyFunc defined at (most recent call last):\n<stack traces unavailable>\nEOFError: No data left in file\nTraceback (most recent call last):\n\n  File \"/opt/homebrew/lib/python3.11/site-packages/tensorflow/python/ops/script_ops.py\", line 270, in __call__\n    ret = func(*args)\n          ^^^^^^^^^^^\n\n  File \"/opt/homebrew/lib/python3.11/site-packages/tensorflow/python/autograph/impl/api.py\", line 643, in wrapper\n    return func(*args, **kwargs)\n           ^^^^^^^^^^^^^^^^^^^^^\n\n  File \"/opt/homebrew/lib/python3.11/site-packages/tensorflow/python/data/ops/from_generator_op.py\", line 198, in generator_py_func\n    values = next(generator_state.get_iterator(iterator_id))\n             ^^^^^^^^^^^^^^^^^^^^^^^^^^^^^^^^^^^^^^^^^^^^^^^\n\n  File \"/var/folders/63/_xq94k6j5hg9kn00zf6sz9k80000gn/T/ipykernel_5555/4269163512.py\", line 22, in data_generator_by_class\n    positive_data = np.load(positive_file, allow_pickle=True).reshape(-1, 19, 50, 1).astype('float32') / 255\n                    ^^^^^^^^^^^^^^^^^^^^^^^^^^^^^^^^^^^^^^^^^\n\n  File \"/opt/homebrew/lib/python3.11/site-packages/numpy/lib/npyio.py\", line 436, in load\n    raise EOFError(\"No data left in file\")\n\nEOFError: No data left in file\n\n\n\t [[{{node PyFunc}}]]\n\t [[IteratorGetNext]] [Op:__inference_one_step_on_iterator_4177]",
     "output_type": "error",
     "traceback": [
      "\u001b[0;31m---------------------------------------------------------------------------\u001b[0m",
      "\u001b[0;31mUnknownError\u001b[0m                              Traceback (most recent call last)",
      "Cell \u001b[0;32mIn[44], line 1\u001b[0m\n\u001b[0;32m----> 1\u001b[0m \u001b[43msiamese_network\u001b[49m\u001b[38;5;241;43m.\u001b[39;49m\u001b[43mfit\u001b[49m\u001b[43m(\u001b[49m\u001b[43mtrain_dataset\u001b[49m\u001b[43m,\u001b[49m\u001b[43m \u001b[49m\u001b[43mvalidation_data\u001b[49m\u001b[38;5;241;43m=\u001b[39;49m\u001b[43m \u001b[49m\u001b[43mvalidate_dataset\u001b[49m\u001b[43m \u001b[49m\u001b[43m,\u001b[49m\u001b[43mepochs\u001b[49m\u001b[38;5;241;43m=\u001b[39;49m\u001b[38;5;241;43m10\u001b[39;49m\u001b[43m)\u001b[49m\n",
      "File \u001b[0;32m/opt/homebrew/lib/python3.11/site-packages/keras/src/utils/traceback_utils.py:122\u001b[0m, in \u001b[0;36mfilter_traceback.<locals>.error_handler\u001b[0;34m(*args, **kwargs)\u001b[0m\n\u001b[1;32m    119\u001b[0m     filtered_tb \u001b[38;5;241m=\u001b[39m _process_traceback_frames(e\u001b[38;5;241m.\u001b[39m__traceback__)\n\u001b[1;32m    120\u001b[0m     \u001b[38;5;66;03m# To get the full stack trace, call:\u001b[39;00m\n\u001b[1;32m    121\u001b[0m     \u001b[38;5;66;03m# `keras.config.disable_traceback_filtering()`\u001b[39;00m\n\u001b[0;32m--> 122\u001b[0m     \u001b[38;5;28;01mraise\u001b[39;00m e\u001b[38;5;241m.\u001b[39mwith_traceback(filtered_tb) \u001b[38;5;28;01mfrom\u001b[39;00m \u001b[38;5;28;01mNone\u001b[39;00m\n\u001b[1;32m    123\u001b[0m \u001b[38;5;28;01mfinally\u001b[39;00m:\n\u001b[1;32m    124\u001b[0m     \u001b[38;5;28;01mdel\u001b[39;00m filtered_tb\n",
      "File \u001b[0;32m/opt/homebrew/lib/python3.11/site-packages/tensorflow/python/eager/execute.py:53\u001b[0m, in \u001b[0;36mquick_execute\u001b[0;34m(op_name, num_outputs, inputs, attrs, ctx, name)\u001b[0m\n\u001b[1;32m     51\u001b[0m \u001b[38;5;28;01mtry\u001b[39;00m:\n\u001b[1;32m     52\u001b[0m   ctx\u001b[38;5;241m.\u001b[39mensure_initialized()\n\u001b[0;32m---> 53\u001b[0m   tensors \u001b[38;5;241m=\u001b[39m pywrap_tfe\u001b[38;5;241m.\u001b[39mTFE_Py_Execute(ctx\u001b[38;5;241m.\u001b[39m_handle, device_name, op_name,\n\u001b[1;32m     54\u001b[0m                                       inputs, attrs, num_outputs)\n\u001b[1;32m     55\u001b[0m \u001b[38;5;28;01mexcept\u001b[39;00m core\u001b[38;5;241m.\u001b[39m_NotOkStatusException \u001b[38;5;28;01mas\u001b[39;00m e:\n\u001b[1;32m     56\u001b[0m   \u001b[38;5;28;01mif\u001b[39;00m name \u001b[38;5;129;01mis\u001b[39;00m \u001b[38;5;129;01mnot\u001b[39;00m \u001b[38;5;28;01mNone\u001b[39;00m:\n",
      "\u001b[0;31mUnknownError\u001b[0m: Graph execution error:\n\nDetected at node PyFunc defined at (most recent call last):\n<stack traces unavailable>\nEOFError: No data left in file\nTraceback (most recent call last):\n\n  File \"/opt/homebrew/lib/python3.11/site-packages/tensorflow/python/ops/script_ops.py\", line 270, in __call__\n    ret = func(*args)\n          ^^^^^^^^^^^\n\n  File \"/opt/homebrew/lib/python3.11/site-packages/tensorflow/python/autograph/impl/api.py\", line 643, in wrapper\n    return func(*args, **kwargs)\n           ^^^^^^^^^^^^^^^^^^^^^\n\n  File \"/opt/homebrew/lib/python3.11/site-packages/tensorflow/python/data/ops/from_generator_op.py\", line 198, in generator_py_func\n    values = next(generator_state.get_iterator(iterator_id))\n             ^^^^^^^^^^^^^^^^^^^^^^^^^^^^^^^^^^^^^^^^^^^^^^^\n\n  File \"/var/folders/63/_xq94k6j5hg9kn00zf6sz9k80000gn/T/ipykernel_5555/4269163512.py\", line 22, in data_generator_by_class\n    positive_data = np.load(positive_file, allow_pickle=True).reshape(-1, 19, 50, 1).astype('float32') / 255\n                    ^^^^^^^^^^^^^^^^^^^^^^^^^^^^^^^^^^^^^^^^^\n\n  File \"/opt/homebrew/lib/python3.11/site-packages/numpy/lib/npyio.py\", line 436, in load\n    raise EOFError(\"No data left in file\")\n\nEOFError: No data left in file\n\n\n\t [[{{node PyFunc}}]]\n\t [[IteratorGetNext]] [Op:__inference_one_step_on_iterator_4177]"
     ]
    }
   ],
   "source": [
    "siamese_network.fit(train_dataset, validation_data= validate_dataset ,epochs=10)"
   ]
  }
 ],
 "metadata": {
  "kernelspec": {
   "display_name": "Python 3 (ipykernel)",
   "language": "python",
   "name": "python3"
  },
  "language_info": {
   "codemirror_mode": {
    "name": "ipython",
    "version": 3
   },
   "file_extension": ".py",
   "mimetype": "text/x-python",
   "name": "python",
   "nbconvert_exporter": "python",
   "pygments_lexer": "ipython3",
   "version": "3.11.9"
  }
 },
 "nbformat": 4,
 "nbformat_minor": 5
}
