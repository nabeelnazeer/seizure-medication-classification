{
 "cells": [
  {
   "cell_type": "code",
   "execution_count": 1,
   "id": "5fc77641-8f47-421f-a4c4-a3ab82dd5ca9",
   "metadata": {},
   "outputs": [],
   "source": [
    "#importing thr neccessary libraries\n",
    "import tensorflow as tf\n",
    "import numpy as np\n",
    "import glob\n",
    "import pandas as pd\n",
    "import random\n",
    "from tensorflow.keras import backend as K\n",
    "from keras import Input, Model\n",
    "from sklearn.manifold import TSNE\n",
    "import shutil"
   ]
  },
  {
   "cell_type": "code",
   "execution_count": 13,
   "id": "a790502a-2298-4477-8f9a-1b7a079a5fba",
   "metadata": {},
   "outputs": [],
   "source": [
    "dilantin_path = 'Siezure med dataset/dataset_used_in_CBMS_paper/fft_images_100Hz_ws_1_overlap_0.1_1Hz_50Hz/dilantin'\n",
    "keppra_path = 'Siezure med dataset/dataset_used_in_CBMS_paper/fft_images_100Hz_ws_1_overlap_0.1_1Hz_50Hz/keppra'\n",
    "none_path = 'Siezure med dataset/dataset_used_in_CBMS_paper/fft_images_100Hz_ws_1_overlap_0.1_1Hz_50Hz/none_0.15'"
   ]
  },
  {
   "cell_type": "code",
   "execution_count": 15,
   "id": "233f69a5-a9a4-4254-8c13-b435b7f120be",
   "metadata": {},
   "outputs": [],
   "source": [
    "import os\n",
    "import shutil\n",
    "import random\n",
    "import pickle\n",
    "import pathlib\n",
    "\n",
    "def split_and_save(source_dir,label ,  train_dir, test_dir, val_dir, train_ratio = 0.6, test_ratio = 0.2, val_ratio = 0.2):\n",
    "    \"\"\"\n",
    "    a function for splitting the contents in source dir to test train and validate in some ratio \n",
    "    \"\"\"\n",
    "\n",
    "    file_list = os.listdir(source_dir)\n",
    "    npy_files = [f for f in file_list if f.endswith('.npy')]\n",
    "\n",
    "    train_split =  int(len(file_list)*train_ratio)\n",
    "    test_split = int(len(file_list)*(test_ratio+train_ratio))\n",
    "\n",
    "    train_files = npy_files[:train_split]\n",
    "    test_files = npy_files[train_split:test_split]\n",
    "    val_files = npy_files[test_split:]\n",
    "\n",
    "    def save_as_pickle(file_list, output_dir, label):\n",
    "        for file_name in file_list:\n",
    "            source_file = os.path.join(source_dir, file_name)\n",
    "            destination_file = os.path.join(output_dir, file_name + \".pkl\")\n",
    "            data = np.load(source_file, allow_pickle =True)\n",
    "            with open(destination_file, 'wb') as f_out:\n",
    "                pickle.dump((data,label), f_out)\n",
    "    save_as_pickle(train_files, train_dir, label)\n",
    "\n",
    "\n",
    "    save_as_pickle(test_files, test_dir, label)\n",
    "\n",
    "\n",
    "    save_as_pickle(val_files, val_dir, label)\n",
    "    "
   ]
  },
  {
   "cell_type": "code",
   "execution_count": 17,
   "id": "3c885f21-8ddf-4398-83d4-0a504a1871aa",
   "metadata": {},
   "outputs": [],
   "source": [
    "#splitting the data for dilantin into train test and validate in dilantin dir\n",
    "#saving path for train test and val files\n",
    "dilantin_test_path = 'pickled_data/dilantin/test'\n",
    "dilantin_train_path = 'pickled_data/dilantin/train'\n",
    "dilantin_validate = 'pickled_data/dilantin/validate'\n",
    "\n",
    "split_and_save(dilantin_path, 0,  dilantin_train_path, dilantin_test_path, dilantin_validate)"
   ]
  },
  {
   "cell_type": "code",
   "execution_count": 18,
   "id": "aa46e883-797d-4027-97ab-4bc27f68d45b",
   "metadata": {},
   "outputs": [],
   "source": [
    "keppra_test_path = 'pickled_data/keppra/test'\n",
    "keppra_train_path = 'pickled_data/keppra/train'\n",
    "keppra_validate_path = 'pickled_data/keppra/validate'\n",
    "\n",
    "split_and_save(keppra_path, 1, keppra_train_path, keppra_test_path, keppra_validate_path)"
   ]
  },
  {
   "cell_type": "code",
   "execution_count": 19,
   "id": "f9e5c424-3b3b-4be7-a918-e48b19da3cea",
   "metadata": {},
   "outputs": [],
   "source": [
    "non_test_path = 'pickled_data/non/test'\n",
    "non_train_path = 'pickled_data/non/train'\n",
    "non_validate_path = 'pickled_data/non/validate'\n",
    "split_and_save(none_path, 2, non_train_path, non_test_path, non_validate_path)\n"
   ]
  }
 ],
 "metadata": {
  "kernelspec": {
   "display_name": "Python 3 (ipykernel)",
   "language": "python",
   "name": "python3"
  },
  "language_info": {
   "codemirror_mode": {
    "name": "ipython",
    "version": 3
   },
   "file_extension": ".py",
   "mimetype": "text/x-python",
   "name": "python",
   "nbconvert_exporter": "python",
   "pygments_lexer": "ipython3",
   "version": "3.11.9"
  }
 },
 "nbformat": 4,
 "nbformat_minor": 5
}
