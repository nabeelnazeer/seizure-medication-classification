{
 "cells": [
  {
   "cell_type": "code",
   "execution_count": 1,
   "id": "19f4c3a7-f090-4829-b17e-c0687dd1f744",
   "metadata": {},
   "outputs": [],
   "source": [
    "import tensorflow as tf\n",
    "import numpy as np\n",
    "import shutil\n",
    "import matplotlib.pyplot as plt \n",
    "from sklearn.manifold import TSNE\n",
    "from sklearn.model_selection import train_test_split\n",
    "from tensorflow.keras.layers import Input, Conv2D, BatchNormalization, DepthwiseConv2D, Activation, AveragePooling2D, Dropout, SeparableConv2D, Flatten, Dense, concatenate\n",
    "from keras.utils import plot_model\n",
    "from tensorflow.keras import backend as K\n",
    "import os\n",
    "from tensorflow.keras.constraints import max_norm\n",
    "from tensorflow.keras.models import Model, Sequential\n",
    "from sklearn.preprocessing import LabelEncoder\n",
    "import os\n",
    "import random\n",
    "import shutil"
   ]
  },
  {
   "cell_type": "code",
   "execution_count": 2,
   "id": "31520289-b385-4594-ba30-3c32204a8a0d",
   "metadata": {},
   "outputs": [],
   "source": [
    "train_data_paths = [\n",
    "    ('seizure med data/train_data/dilantin', 0),\n",
    "    ('seizure med data/train_data/keppra', 1),\n",
    "    ('seizure med data/train_data/none', 2)\n",
    "]"
   ]
  },
  {
   "cell_type": "code",
   "execution_count": 3,
   "id": "ab90cce2-4a65-4a84-8cf2-67603e3a6040",
   "metadata": {},
   "outputs": [],
   "source": [
    "test_data_paths = [\n",
    "    ('seizure med data/test_data/dilantin', 0),\n",
    "    ('seizure med data/test_data/keppra', 1),\n",
    "    ('seizure med data/test_data/none', 2)\n",
    "]"
   ]
  },
  {
   "cell_type": "code",
   "execution_count": 4,
   "id": "4c083699-80f2-452e-9cd1-2719c60101bb",
   "metadata": {},
   "outputs": [],
   "source": [
    "temp_dir = 'temp_dir'"
   ]
  },
  {
   "cell_type": "code",
   "execution_count": 8,
   "id": "76310fad-66a9-4e6a-8c9c-3dbc367f1c08",
   "metadata": {},
   "outputs": [],
   "source": [
    "# #previous data loader\n",
    "\n",
    "\n",
    "\n",
    "# import os\n",
    "# import numpy as np\n",
    "# import tempfile\n",
    "# import pickle\n",
    "\n",
    "# def get_data_whole(folders_with_labels, temp_dir):\n",
    "#     temp_files = []\n",
    "\n",
    "#     for folder_path, label in folders_with_labels:\n",
    "#         file_list = os.listdir(folder_path)\n",
    "#         npy_files = [f for f in file_list if f.endswith('.npy')]\n",
    "\n",
    "#         for file in npy_files:\n",
    "#             file_path = os.path.join(folder_path, file)\n",
    "#             try:\n",
    "#                 loaded_data = np.load(file_path, allow_pickle=True)\n",
    "#                 data_with_labels = [(sample, label) for sample in loaded_data]\n",
    "#                 # Create a temporary file for each loaded data\n",
    "#                 temp_file = tempfile.NamedTemporaryFile(delete=False, dir=temp_dir, suffix='.pkl')\n",
    "#                 with open(temp_file.name, 'wb') as f:\n",
    "#                     pickle.dump(data_with_labels, f)\n",
    "#                 temp_files.append(temp_file.name)\n",
    "\n",
    "#             except Exception as e:\n",
    "#                 print(f\"Error processing file {file} from {folder_path}: {e}\")\n",
    "\n",
    "#     return temp_files\n",
    "\n",
    "# def load_data_from_temp_files(temp_files):\n",
    "#     data = []\n",
    "#     for temp_file in temp_files:\n",
    "#         with open(temp_file, 'rb') as f:\n",
    "#             loaded_data = pickle.load(f)\n",
    "#             data.extend(loaded_data)\n",
    "#         os.remove(temp_file)  # Clean up the temporary file after loading\n",
    "\n",
    "#     return data"
   ]
  },
  {
   "cell_type": "code",
   "execution_count": 5,
   "id": "f695d866-5f00-4da9-bf42-9bf818e5e4cb",
   "metadata": {},
   "outputs": [],
   "source": [
    "# import os\n",
    "# import numpy as np\n",
    "# import tempfile\n",
    "# import pickle\n",
    "# from sklearn.utils import shuffle\n",
    "\n",
    "# def get_data_whole(folders_with_labels, temp_dir):\n",
    "#     temp_files = []\n",
    "\n",
    "#     for folder_path, label in folders_with_labels:\n",
    "#         file_list = os.listdir(folder_path)\n",
    "#         npy_files = [f for f in file_list if f.endswith('.npy')]\n",
    "\n",
    "#         for file in npy_files:\n",
    "#             file_path = os.path.join(folder_path, file)\n",
    "#             try:\n",
    "#                 loaded_data = np.load(file_path, allow_pickle=True)\n",
    "#                 labels = np.full(len(loaded_data), label)\n",
    "#                 # Create a temporary file for each loaded data and labels\n",
    "#                 temp_file = tempfile.NamedTemporaryFile(delete=False, dir=temp_dir, suffix='.pkl')\n",
    "#                 with open(temp_file.name, 'wb') as f:\n",
    "#                     pickle.dump((loaded_data, labels), f)\n",
    "#                 temp_files.append(temp_file.name)\n",
    "\n",
    "#             except Exception as e:\n",
    "#                 print(f\"Error processing file {file} from {folder_path}: {e}\")\n",
    "\n",
    "#     return temp_files\n",
    "\n",
    "# def load_data_from_temp_files(temp_files, max_samples=1000000, train_data=True):\n",
    "#     all_samples = []\n",
    "#     all_labels = []\n",
    "    \n",
    "#     for temp_file in temp_files:\n",
    "#         with open(temp_file, 'rb') as f:\n",
    "#             loaded_data, labels = pickle.load(f)\n",
    "#             all_samples.append(loaded_data)\n",
    "#             all_labels.append(labels)\n",
    "#         os.remove(temp_file)  # Clean up the temporary file after loading\n",
    "\n",
    "#     # Concatenate all samples and labels\n",
    "#     all_samples = np.concatenate(all_samples, axis=0)\n",
    "#     all_labels = np.concatenate(all_labels, axis=0)\n",
    "    \n",
    "#     if train_data:\n",
    "#         # Separate data by class\n",
    "#         class_data = {}\n",
    "#         for sample, label in zip(all_samples, all_labels):\n",
    "#             if label not in class_data:\n",
    "#                 class_data[label] = []\n",
    "#             class_data[label].append(sample)\n",
    "        \n",
    "#         # Determine the maximum number of samples per class\n",
    "#         num_classes = len(class_data)\n",
    "#         max_samples_per_class = max_samples // num_classes\n",
    "        \n",
    "#         balanced_samples = []\n",
    "#         balanced_labels = []\n",
    "#         for label, samples in class_data.items():\n",
    "#             if len(samples) > max_samples_per_class:\n",
    "#                 samples = np.random.choice(samples, max_samples_per_class, replace=False)\n",
    "#             balanced_samples.extend(samples)\n",
    "#             balanced_labels.extend([label] * len(samples))\n",
    "        \n",
    "#         all_samples = np.array(balanced_samples)\n",
    "#         all_labels = np.array(balanced_labels)\n",
    "    \n",
    "#     # Shuffle the data and labels together\n",
    "#     all_samples, all_labels = shuffle(all_samples, all_labels, random_state=42)\n",
    "\n",
    "#     return all_samples, all_labels\n",
    "\n"
   ]
  },
  {
   "cell_type": "code",
   "execution_count": 5,
   "id": "8b978125-53b9-4117-a9ec-575dc0a00f34",
   "metadata": {},
   "outputs": [],
   "source": [
    "import os\n",
    "import numpy as np\n",
    "import tempfile\n",
    "import pickle\n",
    "from sklearn.utils import shuffle\n",
    "\n",
    "def get_data_whole(folders_with_labels, temp_dir):\n",
    "    temp_files = []\n",
    "\n",
    "    for folder_path, label in folders_with_labels:\n",
    "        file_list = os.listdir(folder_path)\n",
    "        npy_files = [f for f in file_list if f.endswith('.npy')]\n",
    "\n",
    "        for file in npy_files:\n",
    "            file_path = os.path.join(folder_path, file)\n",
    "            try:\n",
    "                loaded_data = np.load(file_path, allow_pickle=True)\n",
    "                labels = np.full(len(loaded_data), label)\n",
    "                # Create a temporary file for each loaded data and labels\n",
    "                temp_file = tempfile.NamedTemporaryFile(delete=False, dir=temp_dir, suffix='.pkl')\n",
    "                with open(temp_file.name, 'wb') as f:\n",
    "                    pickle.dump((loaded_data, labels), f)\n",
    "                temp_files.append(temp_file.name)\n",
    "\n",
    "            except Exception as e:\n",
    "                print(f\"Error processing file {file} from {folder_path}: {e}\")\n",
    "\n",
    "    return temp_files\n",
    "\n",
    "def load_data_from_temp_files(temp_files):\n",
    "    all_samples = []\n",
    "    all_labels = []\n",
    "    \n",
    "    for temp_file in temp_files:\n",
    "        with open(temp_file, 'rb') as f:\n",
    "            loaded_data, labels = pickle.load(f)\n",
    "            all_samples.append(loaded_data)\n",
    "            all_labels.append(labels)\n",
    "        os.remove(temp_file)  # Clean up the temporary file after loading\n",
    "\n",
    "    # Concatenate all samples and labels\n",
    "    all_samples = np.concatenate(all_samples, axis=0)\n",
    "    all_labels = np.concatenate(all_labels, axis=0)\n",
    "    \n",
    "    # Shuffle the data and labels together\n",
    "    all_samples, all_labels = shuffle(all_samples, all_labels, random_state=42)\n",
    "\n",
    "    return all_samples, all_labels"
   ]
  },
  {
   "cell_type": "code",
   "execution_count": 6,
   "id": "76f2fc32-317a-4e5d-ad0e-4681e21710aa",
   "metadata": {},
   "outputs": [],
   "source": [
    "train_temp_files = get_data_whole(train_data_paths, temp_dir)\n",
    "X_train, y_train = load_data_from_temp_files(train_temp_files)"
   ]
  },
  {
   "cell_type": "code",
   "execution_count": 7,
   "id": "8d4724d1-58e5-475d-9c1e-e8d183cfcb08",
   "metadata": {},
   "outputs": [],
   "source": [
    "test_temp_files = get_data_whole(test_data_paths, temp_dir)\n",
    "X_test, y_test = load_data_from_temp_files(test_temp_files)"
   ]
  },
  {
   "cell_type": "code",
   "execution_count": 8,
   "id": "68e0d7f9-4810-47e8-9157-86df4bdf9456",
   "metadata": {},
   "outputs": [],
   "source": [
    "label_encoder = LabelEncoder()\n",
    "train_label_encoded = label_encoder.fit_transform(y_train)\n",
    "test_label_encoded = label_encoder.fit_transform(y_test)"
   ]
  },
  {
   "cell_type": "code",
   "execution_count": 9,
   "id": "0d48aa24-f027-4fff-887b-0b4b55f1abbb",
   "metadata": {},
   "outputs": [],
   "source": [
    "x_train = X_train.reshape(-1, 19, 50, 1) \n",
    "x_test = X_test.reshape(-1, 19, 50, 1) "
   ]
  },
  {
   "cell_type": "code",
   "execution_count": 57,
   "id": "2ac5fafa-9aad-4fc4-8aa4-61374c39383b",
   "metadata": {},
   "outputs": [
    {
     "data": {
      "text/plain": [
       "((2083031, 19, 50, 1), (505601, 19, 50, 1))"
      ]
     },
     "execution_count": 57,
     "metadata": {},
     "output_type": "execute_result"
    }
   ],
   "source": [
    "x_train.shape, x_test.shape"
   ]
  },
  {
   "cell_type": "code",
   "execution_count": 11,
   "id": "a4a69cbc-2f01-4292-9fdb-b77d93774706",
   "metadata": {},
   "outputs": [
    {
     "data": {
      "text/plain": [
       "((2083031,), (505601,))"
      ]
     },
     "execution_count": 11,
     "metadata": {},
     "output_type": "execute_result"
    }
   ],
   "source": [
    "y_train.shape, y_test.shape"
   ]
  },
  {
   "cell_type": "code",
   "execution_count": 58,
   "id": "13c52855-e951-4bcf-bda2-c790fba01294",
   "metadata": {},
   "outputs": [
    {
     "name": "stdout",
     "output_type": "stream",
     "text": [
      "Label counts: {0: 534331, 1: 824677, 2: 724023}\n",
      "Total number of samples: 2083031\n",
      "{0: 534331, 1: 824677, 2: 724023}\n"
     ]
    }
   ],
   "source": [
    "#count of classes intrain data before splitting\n",
    "\n",
    "unique, counts = np.unique(y_train, return_counts = True)\n",
    "train_data_no = dict(zip(unique, counts))\n",
    "total_samples = np.sum(counts)\n",
    "\n",
    "print(\"Label counts:\", train_data_no)\n",
    "print(\"Total number of samples:\", total_samples)\n",
    "print(train_data_no)"
   ]
  },
  {
   "cell_type": "code",
   "execution_count": 59,
   "id": "173f8c54-e507-445a-8a3d-24aebd9c3263",
   "metadata": {},
   "outputs": [
    {
     "name": "stdout",
     "output_type": "stream",
     "text": [
      "Label counts: {0: 197402, 1: 153074, 2: 155125}\n",
      "Total number of samples: 505601\n",
      "{0: 197402, 1: 153074, 2: 155125}\n"
     ]
    }
   ],
   "source": [
    "#count of samples in each class in test data before splitting\n",
    "\n",
    "unique, counts = np.unique(y_test, return_counts = True)\n",
    "train_data_no = dict(zip(unique, counts))\n",
    "total_samples = np.sum(counts)\n",
    "\n",
    "print(\"Label counts:\", train_data_no)\n",
    "print(\"Total number of samples:\", total_samples)\n",
    "print(train_data_no)"
   ]
  },
  {
   "cell_type": "code",
   "execution_count": 125,
   "id": "c63b971f-f70d-464c-b8cd-d90d9ef31ae2",
   "metadata": {},
   "outputs": [],
   "source": [
    "# def create_triplets(images, labels, num_triplets=60000):\n",
    "#     triplets = []\n",
    "#     triplet_labels = []\n",
    "#     num_classes = len(np.unique(labels))\n",
    "#     for _ in range(num_triplets):\n",
    "#         anchor_idx = np.random.randint(0, len(labels))\n",
    "#         anchor_image = images[anchor_idx]\n",
    "#         anchor_label = labels[anchor_idx]\n",
    "\n",
    "#         pos_indices = np.where(labels == anchor_label)[0]\n",
    "#         pos_idx = np.random.choice(pos_indices)\n",
    "#         positive_image = images[pos_idx]\n",
    "\n",
    "#         neg_indices = np.where(labels != anchor_label)[0]\n",
    "#         neg_idx = np.random.choice(neg_indices)\n",
    "#         negative_image = images[neg_idx]\n",
    "\n",
    "#         triplets.append([anchor_image, positive_image, negative_image])\n",
    "#         triplet_labels.append(anchor_label)  # The label of the anchor (can be used as triplet label)\n",
    "        \n",
    "#     return np.array(triplets), np.array(triplet_labels)"
   ]
  },
  {
   "cell_type": "code",
   "execution_count": 127,
   "id": "d65f10ae-4873-4a45-8ebf-fd9f6db7edd0",
   "metadata": {},
   "outputs": [],
   "source": [
    "# train_dataset, train_labels = create_triplets(x_train, y_train_encoded)\n",
    "# test_dataset, test_labels = create_triplets(x_test, y_test_encoded, num_triplets = 40000)"
   ]
  },
  {
   "cell_type": "code",
   "execution_count": 61,
   "id": "494edc03-9af2-4788-895b-651de136ea71",
   "metadata": {},
   "outputs": [],
   "source": [
    "import tensorflow as tf\n",
    "import numpy as np\n",
    "\n",
    "import tensorflow as tf\n",
    "import numpy as np\n",
    "\n",
    "def triplet_generator(images, labels, batch_size=32):\n",
    "    while True:\n",
    "        anchor_images = []\n",
    "        positive_images = []\n",
    "        negative_images = []\n",
    "        batch_labels = []\n",
    "\n",
    "        for _ in range(batch_size):\n",
    "            anchor_idx = np.random.randint(0, len(labels))\n",
    "            anchor_image = images[anchor_idx]\n",
    "            anchor_label = labels[anchor_idx]\n",
    "\n",
    "            pos_indices = np.where(labels == anchor_label)[0]\n",
    "            pos_idx = np.random.choice(pos_indices)\n",
    "            positive_image = images[pos_idx]\n",
    "\n",
    "            neg_indices = np.where(labels != anchor_label)[0]\n",
    "            neg_idx = np.random.choice(neg_indices)\n",
    "            negative_image = images[neg_idx]\n",
    "\n",
    "            anchor_images.append(anchor_image)\n",
    "            positive_images.append(positive_image)\n",
    "            negative_images.append(negative_image)\n",
    "            batch_labels.append(anchor_label)  # Add labels to batch\n",
    "\n",
    "        anchor_images = np.array(anchor_images)\n",
    "        positive_images = np.array(positive_images)\n",
    "        negative_images = np.array(negative_images)\n",
    "        batch_labels = np.array(batch_labels)\n",
    "\n",
    "        yield (anchor_images, positive_images, negative_images, batch_labels), np.zeros(batch_size)\n",
    "\n",
    "def create_dataset(images, labels, batch_size=32, buffer_size=10000):\n",
    "    dataset = tf.data.Dataset.from_generator(\n",
    "        lambda: triplet_generator(images, labels, batch_size),\n",
    "        output_signature=(\n",
    "            (tf.TensorSpec(shape=(None, 19, 50, 1), dtype=tf.float32),\n",
    "             tf.TensorSpec(shape=(None, 19, 50, 1), dtype=tf.float32),\n",
    "             tf.TensorSpec(shape=(None, 19, 50, 1), dtype=tf.float32),\n",
    "             tf.TensorSpec(shape=(None,), dtype=tf.float32)),\n",
    "            tf.TensorSpec(shape=(None,), dtype=tf.float32)\n",
    "        )\n",
    "    )\n",
    "    dataset = dataset.shuffle(buffer_size)\n",
    "    dataset = dataset.prefetch(tf.data.AUTOTUNE)\n",
    "    return dataset\n",
    "\n"
   ]
  },
  {
   "cell_type": "code",
   "execution_count": 43,
   "id": "b58834d4-d960-4373-a22d-e2be5b2b1826",
   "metadata": {},
   "outputs": [],
   "source": [
    "# def generate_triplets(images, labels, batch_size, refresh_batches, train=True):\n",
    "#     batch_count = 0\n",
    "#     while True:\n",
    "#         if train and batch_count % refresh_batches == 0:\n",
    "#             shuffled_indices = np.random.permutation(len(labels))\n",
    "#             images = [images[i] for i in shuffled_indices]\n",
    "#             labels = labels[shuffled_indices]\n",
    "\n",
    "#         anchor_images = []\n",
    "#         positive_images = []\n",
    "#         negative_images = []\n",
    "#         triplet_labels = []\n",
    "\n",
    "#         for _ in range(batch_size):\n",
    "#             anchor_idx = np.random.randint(0, len(labels))\n",
    "#             anchor_image = np.expand_dims(images[anchor_idx], axis=-1)\n",
    "#             anchor_label = labels[anchor_idx]\n",
    "\n",
    "#             pos_indices = np.where(labels == anchor_label)[0]\n",
    "#             pos_idx = np.random.choice(pos_indices)\n",
    "#             positive_image = np.expand_dims(images[pos_idx], axis=-1)\n",
    "\n",
    "#             neg_indices = np.where(labels != anchor_label)[0]\n",
    "#             neg_idx = np.random.choice(neg_indices)\n",
    "#             negative_image = np.expand_dims(images[neg_idx], axis=-1)\n",
    "\n",
    "#             anchor_images.append(anchor_image)\n",
    "#             positive_images.append(positive_image)\n",
    "#             negative_images.append(negative_image)\n",
    "#             triplet_labels.append(anchor_label)\n",
    "\n",
    "#         anchor_images = np.array(anchor_images)\n",
    "#         positive_images = np.array(positive_images)\n",
    "#         negative_images = np.array(negative_images)\n",
    "#         triplet_labels = np.array(triplet_labels)\n",
    "\n",
    "#         yield (anchor_images, positive_images, negative_images, triplet_labels)\n",
    "#         batch_count += 1\n",
    "\n",
    "# def create_dataset(images, labels, batch_size=12, buffer_size=10000, max_triplets=60000, refresh_batches=200, train=True):\n",
    "#     if train:\n",
    "#         steps_per_epoch = max_triplets // batch_size\n",
    "#     else:\n",
    "#         steps_per_epoch = len(labels) // batch_size\n",
    "\n",
    "#     dataset = tf.data.Dataset.from_generator(\n",
    "#         lambda: generate_triplets(images, labels, batch_size, refresh_batches, train),\n",
    "#         output_signature=(\n",
    "#             (tf.TensorSpec(shape=(None, 19, 50, 1), dtype=tf.float32),\n",
    "#              tf.TensorSpec(shape=(None, 19, 50, 1), dtype=tf.float32),\n",
    "#              tf.TensorSpec(shape=(None, 19, 50, 1), dtype=tf.float32),\n",
    "#              tf.TensorSpec(shape=(None,), dtype=tf.int32))\n",
    "#         )\n",
    "#     )\n",
    "#     dataset = dataset.shuffle(buffer_size)\n",
    "#     dataset = dataset.prefetch(tf.data.AUTOTUNE)\n",
    "#     return dataset, steps_per_epoch"
   ]
  },
  {
   "cell_type": "code",
   "execution_count": 51,
   "id": "d4b636a9-a57b-45b6-a4b3-91dc25589437",
   "metadata": {},
   "outputs": [],
   "source": [
    "train_dataset = create_dataset(x_train, y_train, batch_size = 32)\n",
    "test_dataset = create_dataset(x_test, y_test, batch_size = 32)"
   ]
  },
  {
   "cell_type": "code",
   "execution_count": 18,
   "id": "a1c08fe4-216b-4c65-be61-9d0e27ac3727",
   "metadata": {},
   "outputs": [],
   "source": [
    "# def create_triplets(images, labels, num_triplets =40000):\n",
    "#     triplets = []\n",
    "#     num_classes = len(np.unique(labels))\n",
    "#     for _ in range (num_triplets):\n",
    "#         anchor_idx = np.random.randint(0, len(labels))\n",
    "#         anchor_image = images[anchor_idx]\n",
    "#         anchor_label = labels[anchor_idx]\n",
    "\n",
    "#         pos_indices = np.where(np.atleast_1d(labels) == anchor_label)[0]\n",
    "#         pos_idx = np.random.choice(pos_indices)\n",
    "#         positive_image = images[pos_idx]\n",
    "\n",
    "#         neg_indices = np.where(np.atleast_1d(labels) != anchor_label)[0]\n",
    "#         neg_idx = np.random.choice(neg_indices)\n",
    "#         negative_image = images[neg_idx]\n",
    "\n",
    "#         triplets.append([anchor_image, positive_image, negative_image])\n",
    "#     return np.array(triplets)"
   ]
  },
  {
   "cell_type": "code",
   "execution_count": 23,
   "id": "a4c427c6-4d04-47f9-8109-29ea74254e1b",
   "metadata": {},
   "outputs": [],
   "source": [
    "# import tensorflow as tf\n",
    "# from tensorflow.keras import backend as K\n",
    "\n",
    "# def triplet_loss_fn(y_true, y_pred, alpha=0.2):\n",
    "#     anchor, positive, negative = y_pred[:, :64], y_pred[:, 64:128], y_pred[:, 128:]\n",
    "#     pos_dist = K.sum(K.square(anchor - positive), axis=1)\n",
    "#     neg_dist = K.sum(K.square(anchor - negative), axis=1)\n",
    "#     loss = K.maximum(pos_dist - neg_dist + alpha, 0.0)\n",
    "#     return loss"
   ]
  },
  {
   "cell_type": "code",
   "execution_count": 25,
   "id": "7e8a6020-f4b0-446e-816c-98272b725352",
   "metadata": {},
   "outputs": [],
   "source": [
    "# train_dataset = create_triplets(x_train, y_train)\n",
    "# test_dataset = create_triplets(x_test, y_test, num_triplets = 24000)"
   ]
  },
  {
   "cell_type": "code",
   "execution_count": 26,
   "id": "4af548bf-21f3-487a-857a-ba88489eae93",
   "metadata": {},
   "outputs": [],
   "source": [
    "# anchor_train = train_dataset[:, 0]\n",
    "# positive_train = train_dataset[:, 1]\n",
    "# negative_train = train_dataset[:, 2]"
   ]
  },
  {
   "cell_type": "code",
   "execution_count": 27,
   "id": "c1b4f141-c1e1-4332-88e6-7e92c5215d6e",
   "metadata": {},
   "outputs": [],
   "source": [
    "# anchor_test = test_dataset[:, 0] \n",
    "# positive_test = test_dataset[:, 1]\n",
    "# negative_test = test_dataset[:, 2]"
   ]
  },
  {
   "cell_type": "code",
   "execution_count": 62,
   "id": "39c9d53a-3a7d-49e3-aaff-fb2f4a63fd5b",
   "metadata": {},
   "outputs": [],
   "source": [
    "import tensorflow as tf\n",
    "from tensorflow.keras.layers import Layer, Conv2D, Dense, GlobalAveragePooling2D, GlobalMaxPooling2D, Reshape, Multiply, Add, Activation\n",
    "\n",
    "\n",
    "class CBAM(Layer):\n",
    "    def __init__(self, ratio=8, **kwargs):\n",
    "        super(CBAM, self).__init__(**kwargs)\n",
    "        self.ratio = ratio\n",
    "\n",
    "    def build(self, input_shape):\n",
    "        self.channel = input_shape[-1]\n",
    "        self.shared_dense_one = Dense(self.channel // self.ratio, activation='relu', kernel_initializer='he_normal', use_bias=True, bias_initializer='zeros')\n",
    "        self.shared_dense_two = Dense(self.channel, kernel_initializer='he_normal', use_bias=True, bias_initializer='zeros')\n",
    "        self.conv = Conv2D(1, (7, 7), strides=1, padding='same', activation='sigmoid', kernel_initializer='he_normal', use_bias=False)\n",
    "        super(CBAM, self).build(input_shape)\n",
    "\n",
    "    def call(self, input_feature):\n",
    "        avg_pool = GlobalAveragePooling2D()(input_feature)\n",
    "        avg_pool = Reshape((1, 1, self.channel))(avg_pool)\n",
    "        avg_pool = self.shared_dense_one(avg_pool)\n",
    "        avg_pool = self.shared_dense_two(avg_pool)\n",
    "\n",
    "        max_pool = GlobalMaxPooling2D()(input_feature)\n",
    "        max_pool = Reshape((1, 1, self.channel))(max_pool)\n",
    "        max_pool = self.shared_dense_one(max_pool)\n",
    "        max_pool = self.shared_dense_two(max_pool)\n",
    "\n",
    "        cbam_feature = Add()([avg_pool, max_pool])\n",
    "        cbam_feature = Activation('sigmoid')(cbam_feature)\n",
    "        channel_refined_feature = Multiply()([input_feature, cbam_feature])\n",
    "\n",
    "        avg_pool = tf.reduce_mean(channel_refined_feature, axis=-1, keepdims=True)\n",
    "        max_pool = tf.reduce_max(channel_refined_feature, axis=-1, keepdims=True)\n",
    "        concat = tf.concat([avg_pool, max_pool], axis=-1)\n",
    "        cbam_feature = self.conv(concat)\n",
    "        spatial_refined_feature = Multiply()([channel_refined_feature, cbam_feature])\n",
    "\n",
    "        return spatial_refined_feature\n",
    "\n",
    "    def compute_output_shape(self, input_shape):\n",
    "        return input_shape"
   ]
  },
  {
   "cell_type": "code",
   "execution_count": 64,
   "id": "b76a7c88-5959-44ed-8a4c-d0f9b910de69",
   "metadata": {},
   "outputs": [],
   "source": [
    "\n",
    "from tensorflow.keras.layers import Input, Conv2D, MaxPooling2D, Flatten, Dense\n",
    "from tensorflow.keras.models import Model\n",
    "def create_embedding_model(input_shape):\n",
    "    input_layer = Input(shape=input_shape)\n",
    "\n",
    "    x = Conv2D(32, (3, 3), activation='relu', padding='same')(input_layer)\n",
    "    x = BatchNormalization()(x)\n",
    "    x = MaxPooling2D((2, 2))(x)\n",
    "    x = CBAM()(x)\n",
    "\n",
    "    x = Conv2D(64, (1, 3), activation='relu', padding='same')(x)\n",
    "    x = BatchNormalization()(x)\n",
    "    x = MaxPooling2D((2, 2))(x)\n",
    "    x = CBAM()(x)\n",
    "\n",
    "    x = Conv2D(128, (3, 3), activation='relu', padding='same')(x)\n",
    "    x = BatchNormalization()(x)\n",
    "    x = MaxPooling2D((2, 2))(x)\n",
    "    x = CBAM()(x)\n",
    "\n",
    "    x = Flatten()(x)\n",
    "    x = Dense(256, activation='relu')(x)\n",
    "    output_layer = Dense(64)(x)\n",
    "\n",
    "    return Model(input_layer, output_layer)\n",
    "\n"
   ]
  },
  {
   "cell_type": "code",
   "execution_count": 27,
   "id": "6c4aa43a-20a4-4a4c-92b0-c72adea336d4",
   "metadata": {},
   "outputs": [],
   "source": [
    "# def triplet_loss(y_true, y_pred, alpha=0.2):\n",
    "#     total_length = y_pred.shape.as_list()[-1]\n",
    "#     anchor = y_pred[:, 0:int(total_length*1/3)]\n",
    "#     positive = y_pred[:, int(total_length*1/3):int(total_length*2/3)]\n",
    "#     negative = y_pred[:, int(total_length*2/3):int(total_length*3/3)]\n",
    "\n",
    "#     pos_dist = K.sum(K.square(anchor - positive), axis=1)\n",
    "#     neg_dist = K.sum(K.square(anchor - negative), axis=1)\n",
    "\n",
    "#     basic_loss = pos_dist - neg_dist + alpha\n",
    "#     loss = K.maximum(basic_loss, 0.0)\n",
    "#     return loss"
   ]
  },
  {
   "cell_type": "code",
   "execution_count": 73,
   "id": "09471dc2-8c27-4b93-b12c-1b39a5f37bcd",
   "metadata": {},
   "outputs": [],
   "source": [
    "# import tensorflow as tf\n",
    "# from tensorflow.keras.layers import Layer\n",
    "\n",
    "# class HardTripletLossLayer(Layer):\n",
    "#     def __init__(self, initial_margin=0.2, margin_schedule=None, **kwargs):\n",
    "#         super(HardTripletLossLayer, self).__init__(**kwargs)\n",
    "#         self.initial_margin = initial_margin\n",
    "#         self.margin_schedule = margin_schedule\n",
    "\n",
    "#     def build(self, input_shape):\n",
    "#         self.margin = self.add_weight(\n",
    "#             name='margin',\n",
    "#             shape=(),\n",
    "#             initializer=tf.keras.initializers.Constant(self.initial_margin),\n",
    "#             trainable=True if self.margin_schedule is None else False\n",
    "#         )\n",
    "#         super(HardTripletLossLayer, self).build(input_shape)\n",
    "\n",
    "#     def call(self, inputs, training=None):\n",
    "#         labels, embeddings = inputs\n",
    "#         anchor, positive, negative = tf.split(embeddings, 3, axis=1)\n",
    "        \n",
    "#         anchor = tf.reshape(anchor, (-1, 64))\n",
    "#         positive = tf.reshape(positive, (-1, 64))\n",
    "#         negative = tf.reshape(negative, (-1, 64))\n",
    "\n",
    "#         if self.margin_schedule is not None and training:\n",
    "#             self.margin.assign(self.margin_schedule(tf.keras.backend.get_value(self.optimizer.iterations)))\n",
    "\n",
    "#         pos_dist = tf.reduce_sum(tf.square(anchor - positive), axis=-1)\n",
    "        \n",
    "#         # Calculate the negative distance for each triplet\n",
    "#         neg_dist = tf.reduce_sum(tf.square(anchor - negative), axis=-1)\n",
    "        \n",
    "#         # Hard Negative Mining: Find the hardest negative across the batch\n",
    "#         hardest_neg_dist = tf.reduce_max(tf.stack([neg_dist], axis=1), axis=1)\n",
    "        \n",
    "#         basic_loss = pos_dist - hardest_neg_dist + self.margin\n",
    "#         loss = tf.reduce_mean(tf.maximum(basic_loss, 0.0), axis=0)\n",
    "        \n",
    "#         self.add_loss(loss)\n",
    "#         return tf.expand_dims(loss, axis=-1)\n",
    "\n",
    "#     def compute_output_shape(self, input_shape):\n",
    "#         return (input_shape[0][0], 1)\n"
   ]
  },
  {
   "cell_type": "code",
   "execution_count": 72,
   "id": "45d9f162-c03f-4899-8dd2-6c46fb575f93",
   "metadata": {},
   "outputs": [],
   "source": [
    "#the custom loss function for the model\n",
    "\n",
    "class HardTripletLossLayer(Layer):\n",
    "    def __init__(self, margin=0.2, **kwargs):\n",
    "        super(HardTripletLossLayer, self).__init__(**kwargs)\n",
    "        self.margin = margin\n",
    "\n",
    "    def call(self, inputs):\n",
    "        labels, embeddings = inputs\n",
    "        anchor, positive, negative = tf.split(embeddings, 3, axis=1)\n",
    "        \n",
    "        anchor = tf.reshape(anchor, (-1, 64))\n",
    "        positive = tf.reshape(positive, (-1, 64))\n",
    "        negative = tf.reshape(negative, (-1, 64))\n",
    "        \n",
    "        pos_dist = tf.reduce_sum(tf.square(anchor - positive), axis=-1)\n",
    "        neg_dist = tf.reduce_sum(tf.square(anchor - negative), axis=-1)\n",
    "        \n",
    "        basic_loss = pos_dist - neg_dist + self.margin\n",
    "        loss = tf.reduce_mean(tf.maximum(basic_loss, 0.0), axis=0)\n",
    "        \n",
    "        self.add_loss(loss)\n",
    "        return tf.expand_dims(loss, axis=-1)\n",
    "\n",
    "    def compute_output_shape(self, input_shape):\n",
    "        return (input_shape[0][0], 1)"
   ]
  },
  {
   "cell_type": "code",
   "execution_count": 66,
   "id": "39583881-8972-4c22-be8a-813fe0150ecd",
   "metadata": {},
   "outputs": [],
   "source": [
    "# from tensorflow.keras.layers import Lambda\n",
    "# from tensorflow.keras.models import Model\n",
    "# import tensorflow.keras.backend as K\n",
    "\n",
    "# def create_siamese_network(input_shape):\n",
    "#     embedding_model = create_embedding_model(input_shape)\n",
    "\n",
    "#     anchor_input = Input(shape=input_shape, name='anchor_input')\n",
    "#     positive_input = Input(shape=input_shape, name='positive_input')\n",
    "#     negative_input = Input(shape=input_shape, name='negative_input')\n",
    "\n",
    "#     encoded_anchor = embedding_model(anchor_input)\n",
    "#     encoded_positive = embedding_model(positive_input)\n",
    "#     encoded_negative = embedding_model(negative_input)\n",
    "\n",
    "#     merged_vector = Lambda(lambda x: K.concatenate(x, axis=-1))([encoded_anchor, encoded_positive, encoded_negative])\n",
    "\n",
    "#     siamese_network = Model(inputs=[anchor_input, positive_input, negative_input], outputs=merged_vector)\n",
    "#     siamese_network.compile(loss=triplet_loss, optimizer='adam')\n",
    "\n",
    "#     return siamese_network\n"
   ]
  },
  {
   "cell_type": "code",
   "execution_count": 76,
   "id": "2c8a8b8a-22a8-4e4c-96a2-753ceedb96d2",
   "metadata": {},
   "outputs": [],
   "source": [
    "from tensorflow.keras.layers import Input, Lambda\n",
    "from tensorflow.keras.models import Model\n",
    "import tensorflow as tf\n",
    "\n",
    "def create_siamese_network(input_shape, margin=0.2):\n",
    "    embedding_model = create_embedding_model(input_shape)\n",
    "\n",
    "    anchor_input = Input(shape=input_shape, name='anchor_input')\n",
    "    positive_input = Input(shape=input_shape, name='positive_input')\n",
    "    negative_input = Input(shape=input_shape, name='negative_input')\n",
    "\n",
    "    encoded_anchor = embedding_model(anchor_input)\n",
    "    encoded_positive = embedding_model(positive_input)\n",
    "    encoded_negative = embedding_model(negative_input)\n",
    "\n",
    "    merged_vector = Lambda(lambda x: tf.concat(x, axis=1), output_shape=(64 * 3,))([encoded_anchor, encoded_positive, encoded_negative])\n",
    "    \n",
    "    labels_input = Input(shape=(1,), name='labels_input')\n",
    "    \n",
    "    hard_triplet_loss_layer = HardTripletLossLayer(margin=margin)([labels_input, merged_vector])\n",
    "    \n",
    "    siamese_network = Model(inputs=[anchor_input, positive_input, negative_input, labels_input], outputs=hard_triplet_loss_layer)\n",
    "    siamese_network.compile(optimizer='adam')\n",
    "\n",
    "    return siamese_network\n"
   ]
  },
  {
   "cell_type": "code",
   "execution_count": 78,
   "id": "9b94bd46-2d9e-4ea3-a8a1-ae6f3a5ea9cc",
   "metadata": {},
   "outputs": [
    {
     "data": {
      "image/png": "[encoded data removed]",
      "text/plain": [
       "<IPython.core.display.Image object>"
      ]
     },
     "execution_count": 78,
     "metadata": {},
     "output_type": "execute_result"
    }
   ],
   "source": [
    "plot_model(siamese_net, to_file = 'model_fig.png', show_shapes = True)"
   ]
  },
  {
   "cell_type": "code",
   "execution_count": 77,
   "id": "ca37895a-4a06-4635-84bb-3a2840edfc6e",
   "metadata": {},
   "outputs": [
    {
     "data": {
      "text/html": [
       "<pre style=\"white-space:pre;overflow-x:auto;line-height:normal;font-family:Menlo,'DejaVu Sans Mono',consolas,'Courier New',monospace\"><span style=\"font-weight: bold\">Model: \"functional_27\"</span>\n",
       "</pre>\n"
      ],
      "text/plain": [
       "\u001b[1mModel: \"functional_27\"\u001b[0m\n"
      ]
     },
     "metadata": {},
     "output_type": "display_data"
    },
    {
     "data": {
      "text/html": [
       "<pre style=\"white-space:pre;overflow-x:auto;line-height:normal;font-family:Menlo,'DejaVu Sans Mono',consolas,'Courier New',monospace\">┏━━━━━━━━━━━━━━━━━━━━━┳━━━━━━━━━━━━━━━━━━━┳━━━━━━━━━━━━┳━━━━━━━━━━━━━━━━━━━┓\n",
       "┃<span style=\"font-weight: bold\"> Layer (type)        </span>┃<span style=\"font-weight: bold\"> Output Shape      </span>┃<span style=\"font-weight: bold\">    Param # </span>┃<span style=\"font-weight: bold\"> Connected to      </span>┃\n",
       "┡━━━━━━━━━━━━━━━━━━━━━╇━━━━━━━━━━━━━━━━━━━╇━━━━━━━━━━━━╇━━━━━━━━━━━━━━━━━━━┩\n",
       "│ anchor_input        │ (<span style=\"color: #00d7ff; text-decoration-color: #00d7ff\">None</span>, <span style=\"color: #00af00; text-decoration-color: #00af00\">19</span>, <span style=\"color: #00af00; text-decoration-color: #00af00\">50</span>, <span style=\"color: #00af00; text-decoration-color: #00af00\">1</span>) │          <span style=\"color: #00af00; text-decoration-color: #00af00\">0</span> │ -                 │\n",
       "│ (<span style=\"color: #0087ff; text-decoration-color: #0087ff\">InputLayer</span>)        │                   │            │                   │\n",
       "├─────────────────────┼───────────────────┼────────────┼───────────────────┤\n",
       "│ positive_input      │ (<span style=\"color: #00d7ff; text-decoration-color: #00d7ff\">None</span>, <span style=\"color: #00af00; text-decoration-color: #00af00\">19</span>, <span style=\"color: #00af00; text-decoration-color: #00af00\">50</span>, <span style=\"color: #00af00; text-decoration-color: #00af00\">1</span>) │          <span style=\"color: #00af00; text-decoration-color: #00af00\">0</span> │ -                 │\n",
       "│ (<span style=\"color: #0087ff; text-decoration-color: #0087ff\">InputLayer</span>)        │                   │            │                   │\n",
       "├─────────────────────┼───────────────────┼────────────┼───────────────────┤\n",
       "│ negative_input      │ (<span style=\"color: #00d7ff; text-decoration-color: #00d7ff\">None</span>, <span style=\"color: #00af00; text-decoration-color: #00af00\">19</span>, <span style=\"color: #00af00; text-decoration-color: #00af00\">50</span>, <span style=\"color: #00af00; text-decoration-color: #00af00\">1</span>) │          <span style=\"color: #00af00; text-decoration-color: #00af00\">0</span> │ -                 │\n",
       "│ (<span style=\"color: #0087ff; text-decoration-color: #0087ff\">InputLayer</span>)        │                   │            │                   │\n",
       "├─────────────────────┼───────────────────┼────────────┼───────────────────┤\n",
       "│ functional_25       │ (<span style=\"color: #00d7ff; text-decoration-color: #00d7ff\">None</span>, <span style=\"color: #00af00; text-decoration-color: #00af00\">64</span>)        │    <span style=\"color: #00af00; text-decoration-color: #00af00\">491,200</span> │ anchor_input[<span style=\"color: #00af00; text-decoration-color: #00af00\">0</span>][<span style=\"color: #00af00; text-decoration-color: #00af00\">…</span> │\n",
       "│ (<span style=\"color: #0087ff; text-decoration-color: #0087ff\">Functional</span>)        │                   │            │ positive_input[<span style=\"color: #00af00; text-decoration-color: #00af00\">0</span>… │\n",
       "│                     │                   │            │ negative_input[<span style=\"color: #00af00; text-decoration-color: #00af00\">0</span>… │\n",
       "├─────────────────────┼───────────────────┼────────────┼───────────────────┤\n",
       "│ labels_input        │ (<span style=\"color: #00d7ff; text-decoration-color: #00d7ff\">None</span>, <span style=\"color: #00af00; text-decoration-color: #00af00\">1</span>)         │          <span style=\"color: #00af00; text-decoration-color: #00af00\">0</span> │ -                 │\n",
       "│ (<span style=\"color: #0087ff; text-decoration-color: #0087ff\">InputLayer</span>)        │                   │            │                   │\n",
       "├─────────────────────┼───────────────────┼────────────┼───────────────────┤\n",
       "│ lambda_7 (<span style=\"color: #0087ff; text-decoration-color: #0087ff\">Lambda</span>)   │ (<span style=\"color: #00d7ff; text-decoration-color: #00d7ff\">None</span>, <span style=\"color: #00af00; text-decoration-color: #00af00\">192</span>)       │          <span style=\"color: #00af00; text-decoration-color: #00af00\">0</span> │ functional_25[<span style=\"color: #00af00; text-decoration-color: #00af00\">0</span>]… │\n",
       "│                     │                   │            │ functional_25[<span style=\"color: #00af00; text-decoration-color: #00af00\">1</span>]… │\n",
       "│                     │                   │            │ functional_25[<span style=\"color: #00af00; text-decoration-color: #00af00\">2</span>]… │\n",
       "├─────────────────────┼───────────────────┼────────────┼───────────────────┤\n",
       "│ hard_triplet_loss_… │ (<span style=\"color: #00d7ff; text-decoration-color: #00d7ff\">None</span>, <span style=\"color: #00af00; text-decoration-color: #00af00\">1</span>)         │          <span style=\"color: #00af00; text-decoration-color: #00af00\">0</span> │ labels_input[<span style=\"color: #00af00; text-decoration-color: #00af00\">0</span>][<span style=\"color: #00af00; text-decoration-color: #00af00\">…</span> │\n",
       "│ (<span style=\"color: #0087ff; text-decoration-color: #0087ff\">HardTripletLossLa…</span> │                   │            │ lambda_7[<span style=\"color: #00af00; text-decoration-color: #00af00\">0</span>][<span style=\"color: #00af00; text-decoration-color: #00af00\">0</span>]    │\n",
       "└─────────────────────┴───────────────────┴────────────┴───────────────────┘\n",
       "</pre>\n"
      ],
      "text/plain": [
       "┏━━━━━━━━━━━━━━━━━━━━━┳━━━━━━━━━━━━━━━━━━━┳━━━━━━━━━━━━┳━━━━━━━━━━━━━━━━━━━┓\n",
       "┃\u001b[1m \u001b[0m\u001b[1mLayer (type)       \u001b[0m\u001b[1m \u001b[0m┃\u001b[1m \u001b[0m\u001b[1mOutput Shape     \u001b[0m\u001b[1m \u001b[0m┃\u001b[1m \u001b[0m\u001b[1m   Param #\u001b[0m\u001b[1m \u001b[0m┃\u001b[1m \u001b[0m\u001b[1mConnected to     \u001b[0m\u001b[1m \u001b[0m┃\n",
       "┡━━━━━━━━━━━━━━━━━━━━━╇━━━━━━━━━━━━━━━━━━━╇━━━━━━━━━━━━╇━━━━━━━━━━━━━━━━━━━┩\n",
       "│ anchor_input        │ (\u001b[38;5;45mNone\u001b[0m, \u001b[38;5;34m19\u001b[0m, \u001b[38;5;34m50\u001b[0m, \u001b[38;5;34m1\u001b[0m) │          \u001b[38;5;34m0\u001b[0m │ -                 │\n",
       "│ (\u001b[38;5;33mInputLayer\u001b[0m)        │                   │            │                   │\n",
       "├─────────────────────┼───────────────────┼────────────┼───────────────────┤\n",
       "│ positive_input      │ (\u001b[38;5;45mNone\u001b[0m, \u001b[38;5;34m19\u001b[0m, \u001b[38;5;34m50\u001b[0m, \u001b[38;5;34m1\u001b[0m) │          \u001b[38;5;34m0\u001b[0m │ -                 │\n",
       "│ (\u001b[38;5;33mInputLayer\u001b[0m)        │                   │            │                   │\n",
       "├─────────────────────┼───────────────────┼────────────┼───────────────────┤\n",
       "│ negative_input      │ (\u001b[38;5;45mNone\u001b[0m, \u001b[38;5;34m19\u001b[0m, \u001b[38;5;34m50\u001b[0m, \u001b[38;5;34m1\u001b[0m) │          \u001b[38;5;34m0\u001b[0m │ -                 │\n",
       "│ (\u001b[38;5;33mInputLayer\u001b[0m)        │                   │            │                   │\n",
       "├─────────────────────┼───────────────────┼────────────┼───────────────────┤\n",
       "│ functional_25       │ (\u001b[38;5;45mNone\u001b[0m, \u001b[38;5;34m64\u001b[0m)        │    \u001b[38;5;34m491,200\u001b[0m │ anchor_input[\u001b[38;5;34m0\u001b[0m][\u001b[38;5;34m…\u001b[0m │\n",
       "│ (\u001b[38;5;33mFunctional\u001b[0m)        │                   │            │ positive_input[\u001b[38;5;34m0\u001b[0m… │\n",
       "│                     │                   │            │ negative_input[\u001b[38;5;34m0\u001b[0m… │\n",
       "├─────────────────────┼───────────────────┼────────────┼───────────────────┤\n",
       "│ labels_input        │ (\u001b[38;5;45mNone\u001b[0m, \u001b[38;5;34m1\u001b[0m)         │          \u001b[38;5;34m0\u001b[0m │ -                 │\n",
       "│ (\u001b[38;5;33mInputLayer\u001b[0m)        │                   │            │                   │\n",
       "├─────────────────────┼───────────────────┼────────────┼───────────────────┤\n",
       "│ lambda_7 (\u001b[38;5;33mLambda\u001b[0m)   │ (\u001b[38;5;45mNone\u001b[0m, \u001b[38;5;34m192\u001b[0m)       │          \u001b[38;5;34m0\u001b[0m │ functional_25[\u001b[38;5;34m0\u001b[0m]… │\n",
       "│                     │                   │            │ functional_25[\u001b[38;5;34m1\u001b[0m]… │\n",
       "│                     │                   │            │ functional_25[\u001b[38;5;34m2\u001b[0m]… │\n",
       "├─────────────────────┼───────────────────┼────────────┼───────────────────┤\n",
       "│ hard_triplet_loss_… │ (\u001b[38;5;45mNone\u001b[0m, \u001b[38;5;34m1\u001b[0m)         │          \u001b[38;5;34m0\u001b[0m │ labels_input[\u001b[38;5;34m0\u001b[0m][\u001b[38;5;34m…\u001b[0m │\n",
       "│ (\u001b[38;5;33mHardTripletLossLa…\u001b[0m │                   │            │ lambda_7[\u001b[38;5;34m0\u001b[0m][\u001b[38;5;34m0\u001b[0m]    │\n",
       "└─────────────────────┴───────────────────┴────────────┴───────────────────┘\n"
      ]
     },
     "metadata": {},
     "output_type": "display_data"
    },
    {
     "data": {
      "text/html": [
       "<pre style=\"white-space:pre;overflow-x:auto;line-height:normal;font-family:Menlo,'DejaVu Sans Mono',consolas,'Courier New',monospace\"><span style=\"font-weight: bold\"> Total params: </span><span style=\"color: #00af00; text-decoration-color: #00af00\">491,200</span> (1.87 MB)\n",
       "</pre>\n"
      ],
      "text/plain": [
       "\u001b[1m Total params: \u001b[0m\u001b[38;5;34m491,200\u001b[0m (1.87 MB)\n"
      ]
     },
     "metadata": {},
     "output_type": "display_data"
    },
    {
     "data": {
      "text/html": [
       "<pre style=\"white-space:pre;overflow-x:auto;line-height:normal;font-family:Menlo,'DejaVu Sans Mono',consolas,'Courier New',monospace\"><span style=\"font-weight: bold\"> Trainable params: </span><span style=\"color: #00af00; text-decoration-color: #00af00\">490,752</span> (1.87 MB)\n",
       "</pre>\n"
      ],
      "text/plain": [
       "\u001b[1m Trainable params: \u001b[0m\u001b[38;5;34m490,752\u001b[0m (1.87 MB)\n"
      ]
     },
     "metadata": {},
     "output_type": "display_data"
    },
    {
     "data": {
      "text/html": [
       "<pre style=\"white-space:pre;overflow-x:auto;line-height:normal;font-family:Menlo,'DejaVu Sans Mono',consolas,'Courier New',monospace\"><span style=\"font-weight: bold\"> Non-trainable params: </span><span style=\"color: #00af00; text-decoration-color: #00af00\">448</span> (1.75 KB)\n",
       "</pre>\n"
      ],
      "text/plain": [
       "\u001b[1m Non-trainable params: \u001b[0m\u001b[38;5;34m448\u001b[0m (1.75 KB)\n"
      ]
     },
     "metadata": {},
     "output_type": "display_data"
    }
   ],
   "source": [
    "input_shape = (19, 50, 1)  # Replace with your input shape\n",
    "siamese_net = create_siamese_network(input_shape)\n",
    "siamese_net.summary()"
   ]
  },
  {
   "cell_type": "code",
   "execution_count": 79,
   "id": "331327fd-3106-471e-9930-5bcf912218cb",
   "metadata": {},
   "outputs": [],
   "source": [
    "from tensorflow.keras.callbacks import EarlyStopping, ModelCheckpoint\n",
    "\n",
    "early_stopping = EarlyStopping(\n",
    "    monitor='val_loss',   \n",
    "    patience=5,           \n",
    "    restore_best_weights=True  \n",
    ")"
   ]
  },
  {
   "cell_type": "code",
   "execution_count": 80,
   "id": "587046e1-e505-4b68-94d3-6651cf7473d4",
   "metadata": {},
   "outputs": [],
   "source": [
    "from keras.callbacks import ModelCheckpoint\n",
    "checkpoint = ModelCheckpoint(\n",
    "    'hard_triplet_loss.keras',     \n",
    "    monitor='val_loss',   \n",
    "    save_best_only=True,   \n",
    "    mode='min',            )\n",
    "    verbose = 1\n",
    ")"
   ]
  },
  {
   "cell_type": "code",
   "execution_count": null,
   "id": "05abd78b-b11b-4c8c-9639-8b2484b19d92",
   "metadata": {},
   "outputs": [
    {
     "name": "stdout",
     "output_type": "stream",
     "text": [
      "Epoch 1/200\n"
     ]
    },
    {
     "name": "stderr",
     "output_type": "stream",
     "text": [
      "2024-08-11 17:51:56.220742: I tensorflow/core/kernels/data/shuffle_dataset_op.cc:450] ShuffleDatasetV3:51: Filling up shuffle buffer (this may take a while): 56 of 10000\n",
      "2024-08-11 17:52:16.099013: I tensorflow/core/kernels/data/shuffle_dataset_op.cc:450] ShuffleDatasetV3:51: Filling up shuffle buffer (this may take a while): 171 of 10000\n",
      "2024-08-11 17:52:26.124788: I tensorflow/core/kernels/data/shuffle_dataset_op.cc:450] ShuffleDatasetV3:51: Filling up shuffle buffer (this may take a while): 223 of 10000\n",
      "2024-08-11 17:52:46.123601: I tensorflow/core/kernels/data/shuffle_dataset_op.cc:450] ShuffleDatasetV3:51: Filling up shuffle buffer (this may take a while): 314 of 10000\n",
      "2024-08-11 17:53:06.092451: I tensorflow/core/kernels/data/shuffle_dataset_op.cc:450] ShuffleDatasetV3:51: Filling up shuffle buffer (this may take a while): 423 of 10000\n",
      "2024-08-11 17:53:16.196748: I tensorflow/core/kernels/data/shuffle_dataset_op.cc:450] ShuffleDatasetV3:51: Filling up shuffle buffer (this may take a while): 482 of 10000\n",
      "2024-08-11 17:53:26.215135: I tensorflow/core/kernels/data/shuffle_dataset_op.cc:450] ShuffleDatasetV3:51: Filling up shuffle buffer (this may take a while): 540 of 10000\n",
      "2024-08-11 17:53:46.092398: I tensorflow/core/kernels/data/shuffle_dataset_op.cc:450] ShuffleDatasetV3:51: Filling up shuffle buffer (this may take a while): 651 of 10000\n",
      "2024-08-11 17:53:56.181534: I tensorflow/core/kernels/data/shuffle_dataset_op.cc:450] ShuffleDatasetV3:51: Filling up shuffle buffer (this may take a while): 707 of 10000\n",
      "2024-08-11 17:54:06.209759: I tensorflow/core/kernels/data/shuffle_dataset_op.cc:450] ShuffleDatasetV3:51: Filling up shuffle buffer (this may take a while): 756 of 10000\n",
      "2024-08-11 17:54:26.276234: I tensorflow/core/kernels/data/shuffle_dataset_op.cc:450] ShuffleDatasetV3:51: Filling up shuffle buffer (this may take a while): 873 of 10000\n",
      "2024-08-11 17:54:46.226792: I tensorflow/core/kernels/data/shuffle_dataset_op.cc:450] ShuffleDatasetV3:51: Filling up shuffle buffer (this may take a while): 990 of 10000\n",
      "2024-08-11 17:55:06.145707: I tensorflow/core/kernels/data/shuffle_dataset_op.cc:450] ShuffleDatasetV3:51: Filling up shuffle buffer (this may take a while): 1109 of 10000\n",
      "2024-08-11 17:55:26.140841: I tensorflow/core/kernels/data/shuffle_dataset_op.cc:450] ShuffleDatasetV3:51: Filling up shuffle buffer (this may take a while): 1221 of 10000\n",
      "2024-08-11 17:55:36.161349: I tensorflow/core/kernels/data/shuffle_dataset_op.cc:450] ShuffleDatasetV3:51: Filling up shuffle buffer (this may take a while): 1278 of 10000\n",
      "2024-08-11 17:55:56.139060: I tensorflow/core/kernels/data/shuffle_dataset_op.cc:450] ShuffleDatasetV3:51: Filling up shuffle buffer (this may take a while): 1395 of 10000\n",
      "2024-08-11 17:56:16.176832: I tensorflow/core/kernels/data/shuffle_dataset_op.cc:450] ShuffleDatasetV3:51: Filling up shuffle buffer (this may take a while): 1520 of 10000\n",
      "2024-08-11 17:56:36.168599: I tensorflow/core/kernels/data/shuffle_dataset_op.cc:450] ShuffleDatasetV3:51: Filling up shuffle buffer (this may take a while): 1637 of 10000\n",
      "2024-08-11 17:56:46.176689: I tensorflow/core/kernels/data/shuffle_dataset_op.cc:450] ShuffleDatasetV3:51: Filling up shuffle buffer (this may take a while): 1703 of 10000\n",
      "2024-08-11 17:57:06.176167: I tensorflow/core/kernels/data/shuffle_dataset_op.cc:450] ShuffleDatasetV3:51: Filling up shuffle buffer (this may take a while): 1827 of 10000\n",
      "2024-08-11 17:57:16.199750: I tensorflow/core/kernels/data/shuffle_dataset_op.cc:450] ShuffleDatasetV3:51: Filling up shuffle buffer (this may take a while): 1889 of 10000\n",
      "2024-08-11 17:57:36.090641: I tensorflow/core/kernels/data/shuffle_dataset_op.cc:450] ShuffleDatasetV3:51: Filling up shuffle buffer (this may take a while): 2008 of 10000\n",
      "2024-08-11 17:57:46.227446: I tensorflow/core/kernels/data/shuffle_dataset_op.cc:450] ShuffleDatasetV3:51: Filling up shuffle buffer (this may take a while): 2064 of 10000\n",
      "2024-08-11 17:58:06.067128: I tensorflow/core/kernels/data/shuffle_dataset_op.cc:450] ShuffleDatasetV3:51: Filling up shuffle buffer (this may take a while): 2168 of 10000\n",
      "2024-08-11 17:58:16.187146: I tensorflow/core/kernels/data/shuffle_dataset_op.cc:450] ShuffleDatasetV3:51: Filling up shuffle buffer (this may take a while): 2222 of 10000\n",
      "2024-08-11 17:58:36.104923: I tensorflow/core/kernels/data/shuffle_dataset_op.cc:450] ShuffleDatasetV3:51: Filling up shuffle buffer (this may take a while): 2327 of 10000\n",
      "2024-08-11 17:58:56.191376: I tensorflow/core/kernels/data/shuffle_dataset_op.cc:450] ShuffleDatasetV3:51: Filling up shuffle buffer (this may take a while): 2426 of 10000\n",
      "2024-08-11 17:59:06.195016: I tensorflow/core/kernels/data/shuffle_dataset_op.cc:450] ShuffleDatasetV3:51: Filling up shuffle buffer (this may take a while): 2482 of 10000\n",
      "2024-08-11 17:59:26.163479: I tensorflow/core/kernels/data/shuffle_dataset_op.cc:450] ShuffleDatasetV3:51: Filling up shuffle buffer (this may take a while): 2599 of 10000\n",
      "2024-08-11 17:59:36.209206: I tensorflow/core/kernels/data/shuffle_dataset_op.cc:450] ShuffleDatasetV3:51: Filling up shuffle buffer (this may take a while): 2652 of 10000\n",
      "2024-08-11 17:59:56.071446: I tensorflow/core/kernels/data/shuffle_dataset_op.cc:450] ShuffleDatasetV3:51: Filling up shuffle buffer (this may take a while): 2765 of 10000\n",
      "2024-08-11 18:00:06.210795: I tensorflow/core/kernels/data/shuffle_dataset_op.cc:450] ShuffleDatasetV3:51: Filling up shuffle buffer (this may take a while): 2823 of 10000\n",
      "2024-08-11 18:00:26.161511: I tensorflow/core/kernels/data/shuffle_dataset_op.cc:450] ShuffleDatasetV3:51: Filling up shuffle buffer (this may take a while): 2937 of 10000\n",
      "2024-08-11 18:00:46.124770: I tensorflow/core/kernels/data/shuffle_dataset_op.cc:450] ShuffleDatasetV3:51: Filling up shuffle buffer (this may take a while): 3049 of 10000\n",
      "2024-08-11 18:00:56.126380: I tensorflow/core/kernels/data/shuffle_dataset_op.cc:450] ShuffleDatasetV3:51: Filling up shuffle buffer (this may take a while): 3096 of 10000\n",
      "2024-08-11 18:01:16.069650: I tensorflow/core/kernels/data/shuffle_dataset_op.cc:450] ShuffleDatasetV3:51: Filling up shuffle buffer (this may take a while): 3217 of 10000\n",
      "2024-08-11 18:01:36.107550: I tensorflow/core/kernels/data/shuffle_dataset_op.cc:450] ShuffleDatasetV3:51: Filling up shuffle buffer (this may take a while): 3324 of 10000\n",
      "2024-08-11 18:01:46.195226: I tensorflow/core/kernels/data/shuffle_dataset_op.cc:450] ShuffleDatasetV3:51: Filling up shuffle buffer (this may take a while): 3387 of 10000\n",
      "2024-08-11 18:02:06.119738: I tensorflow/core/kernels/data/shuffle_dataset_op.cc:450] ShuffleDatasetV3:51: Filling up shuffle buffer (this may take a while): 3503 of 10000\n",
      "2024-08-11 18:02:26.131315: I tensorflow/core/kernels/data/shuffle_dataset_op.cc:450] ShuffleDatasetV3:51: Filling up shuffle buffer (this may take a while): 3619 of 10000\n",
      "2024-08-11 18:02:46.121017: I tensorflow/core/kernels/data/shuffle_dataset_op.cc:450] ShuffleDatasetV3:51: Filling up shuffle buffer (this may take a while): 3740 of 10000\n",
      "2024-08-11 18:02:56.161359: I tensorflow/core/kernels/data/shuffle_dataset_op.cc:450] ShuffleDatasetV3:51: Filling up shuffle buffer (this may take a while): 3788 of 10000\n",
      "2024-08-11 18:03:06.380722: I tensorflow/core/kernels/data/shuffle_dataset_op.cc:450] ShuffleDatasetV3:51: Filling up shuffle buffer (this may take a while): 3839 of 10000\n",
      "2024-08-11 18:03:26.102131: I tensorflow/core/kernels/data/shuffle_dataset_op.cc:450] ShuffleDatasetV3:51: Filling up shuffle buffer (this may take a while): 3951 of 10000\n",
      "2024-08-11 18:03:36.172594: I tensorflow/core/kernels/data/shuffle_dataset_op.cc:450] ShuffleDatasetV3:51: Filling up shuffle buffer (this may take a while): 4013 of 10000\n",
      "2024-08-11 18:03:56.069276: I tensorflow/core/kernels/data/shuffle_dataset_op.cc:450] ShuffleDatasetV3:51: Filling up shuffle buffer (this may take a while): 4134 of 10000\n",
      "2024-08-11 18:04:06.177081: I tensorflow/core/kernels/data/shuffle_dataset_op.cc:450] ShuffleDatasetV3:51: Filling up shuffle buffer (this may take a while): 4196 of 10000\n",
      "2024-08-11 18:04:16.256304: I tensorflow/core/kernels/data/shuffle_dataset_op.cc:450] ShuffleDatasetV3:51: Filling up shuffle buffer (this may take a while): 4257 of 10000\n",
      "2024-08-11 18:04:36.242743: I tensorflow/core/kernels/data/shuffle_dataset_op.cc:450] ShuffleDatasetV3:51: Filling up shuffle buffer (this may take a while): 4375 of 10000\n",
      "2024-08-11 18:04:56.172261: I tensorflow/core/kernels/data/shuffle_dataset_op.cc:450] ShuffleDatasetV3:51: Filling up shuffle buffer (this may take a while): 4491 of 10000\n",
      "2024-08-11 18:05:16.114661: I tensorflow/core/kernels/data/shuffle_dataset_op.cc:450] ShuffleDatasetV3:51: Filling up shuffle buffer (this may take a while): 4607 of 10000\n",
      "2024-08-11 18:05:26.198748: I tensorflow/core/kernels/data/shuffle_dataset_op.cc:450] ShuffleDatasetV3:51: Filling up shuffle buffer (this may take a while): 4671 of 10000\n",
      "2024-08-11 18:05:46.133945: I tensorflow/core/kernels/data/shuffle_dataset_op.cc:450] ShuffleDatasetV3:51: Filling up shuffle buffer (this may take a while): 4788 of 10000\n",
      "2024-08-11 18:05:56.165979: I tensorflow/core/kernels/data/shuffle_dataset_op.cc:450] ShuffleDatasetV3:51: Filling up shuffle buffer (this may take a while): 4852 of 10000\n",
      "2024-08-11 18:06:16.223264: I tensorflow/core/kernels/data/shuffle_dataset_op.cc:450] ShuffleDatasetV3:51: Filling up shuffle buffer (this may take a while): 4975 of 10000\n",
      "2024-08-11 18:06:36.255999: I tensorflow/core/kernels/data/shuffle_dataset_op.cc:450] ShuffleDatasetV3:51: Filling up shuffle buffer (this may take a while): 5086 of 10000\n",
      "2024-08-11 18:06:56.140656: I tensorflow/core/kernels/data/shuffle_dataset_op.cc:450] ShuffleDatasetV3:51: Filling up shuffle buffer (this may take a while): 5207 of 10000\n",
      "2024-08-11 18:07:06.203362: I tensorflow/core/kernels/data/shuffle_dataset_op.cc:450] ShuffleDatasetV3:51: Filling up shuffle buffer (this may take a while): 5261 of 10000\n",
      "2024-08-11 18:07:26.102681: I tensorflow/core/kernels/data/shuffle_dataset_op.cc:450] ShuffleDatasetV3:51: Filling up shuffle buffer (this may take a while): 5368 of 10000\n",
      "2024-08-11 18:07:46.196139: I tensorflow/core/kernels/data/shuffle_dataset_op.cc:450] ShuffleDatasetV3:51: Filling up shuffle buffer (this may take a while): 5476 of 10000\n",
      "2024-08-11 18:07:56.264976: I tensorflow/core/kernels/data/shuffle_dataset_op.cc:450] ShuffleDatasetV3:51: Filling up shuffle buffer (this may take a while): 5523 of 10000\n",
      "2024-08-11 18:08:16.215785: I tensorflow/core/kernels/data/shuffle_dataset_op.cc:450] ShuffleDatasetV3:51: Filling up shuffle buffer (this may take a while): 5624 of 10000\n",
      "2024-08-11 18:08:36.077554: I tensorflow/core/kernels/data/shuffle_dataset_op.cc:450] ShuffleDatasetV3:51: Filling up shuffle buffer (this may take a while): 5740 of 10000\n",
      "2024-08-11 18:08:46.236801: I tensorflow/core/kernels/data/shuffle_dataset_op.cc:450] ShuffleDatasetV3:51: Filling up shuffle buffer (this may take a while): 5799 of 10000\n",
      "2024-08-11 18:08:56.353790: I tensorflow/core/kernels/data/shuffle_dataset_op.cc:450] ShuffleDatasetV3:51: Filling up shuffle buffer (this may take a while): 5855 of 10000\n",
      "2024-08-11 18:09:16.070098: I tensorflow/core/kernels/data/shuffle_dataset_op.cc:450] ShuffleDatasetV3:51: Filling up shuffle buffer (this may take a while): 5958 of 10000\n",
      "2024-08-11 18:09:26.095658: I tensorflow/core/kernels/data/shuffle_dataset_op.cc:450] ShuffleDatasetV3:51: Filling up shuffle buffer (this may take a while): 6002 of 10000\n",
      "2024-08-11 18:09:36.146309: I tensorflow/core/kernels/data/shuffle_dataset_op.cc:450] ShuffleDatasetV3:51: Filling up shuffle buffer (this may take a while): 6056 of 10000\n",
      "2024-08-11 18:09:56.058060: I tensorflow/core/kernels/data/shuffle_dataset_op.cc:450] ShuffleDatasetV3:51: Filling up shuffle buffer (this may take a while): 6179 of 10000\n",
      "2024-08-11 18:10:06.185419: I tensorflow/core/kernels/data/shuffle_dataset_op.cc:450] ShuffleDatasetV3:51: Filling up shuffle buffer (this may take a while): 6242 of 10000\n",
      "2024-08-11 18:10:26.117640: I tensorflow/core/kernels/data/shuffle_dataset_op.cc:450] ShuffleDatasetV3:51: Filling up shuffle buffer (this may take a while): 6366 of 10000\n",
      "2024-08-11 18:10:46.209241: I tensorflow/core/kernels/data/shuffle_dataset_op.cc:450] ShuffleDatasetV3:51: Filling up shuffle buffer (this may take a while): 6470 of 10000\n",
      "2024-08-11 18:10:56.217465: I tensorflow/core/kernels/data/shuffle_dataset_op.cc:450] ShuffleDatasetV3:51: Filling up shuffle buffer (this may take a while): 6525 of 10000\n",
      "2024-08-11 18:11:16.108422: I tensorflow/core/kernels/data/shuffle_dataset_op.cc:450] ShuffleDatasetV3:51: Filling up shuffle buffer (this may take a while): 6603 of 10000\n",
      "2024-08-11 18:11:26.165718: I tensorflow/core/kernels/data/shuffle_dataset_op.cc:450] ShuffleDatasetV3:51: Filling up shuffle buffer (this may take a while): 6664 of 10000\n",
      "2024-08-11 18:11:36.216123: I tensorflow/core/kernels/data/shuffle_dataset_op.cc:450] ShuffleDatasetV3:51: Filling up shuffle buffer (this may take a while): 6720 of 10000\n",
      "2024-08-11 18:11:56.127893: I tensorflow/core/kernels/data/shuffle_dataset_op.cc:450] ShuffleDatasetV3:51: Filling up shuffle buffer (this may take a while): 6809 of 10000\n",
      "2024-08-11 18:12:16.186044: I tensorflow/core/kernels/data/shuffle_dataset_op.cc:450] ShuffleDatasetV3:51: Filling up shuffle buffer (this may take a while): 6930 of 10000\n",
      "2024-08-11 18:12:36.161469: I tensorflow/core/kernels/data/shuffle_dataset_op.cc:450] ShuffleDatasetV3:51: Filling up shuffle buffer (this may take a while): 7051 of 10000\n",
      "2024-08-11 18:12:46.163037: I tensorflow/core/kernels/data/shuffle_dataset_op.cc:450] ShuffleDatasetV3:51: Filling up shuffle buffer (this may take a while): 7108 of 10000\n",
      "2024-08-11 18:12:56.201663: I tensorflow/core/kernels/data/shuffle_dataset_op.cc:450] ShuffleDatasetV3:51: Filling up shuffle buffer (this may take a while): 7166 of 10000\n",
      "2024-08-11 18:13:16.191497: I tensorflow/core/kernels/data/shuffle_dataset_op.cc:450] ShuffleDatasetV3:51: Filling up shuffle buffer (this may take a while): 7278 of 10000\n",
      "2024-08-11 18:13:36.187706: I tensorflow/core/kernels/data/shuffle_dataset_op.cc:450] ShuffleDatasetV3:51: Filling up shuffle buffer (this may take a while): 7390 of 10000\n",
      "2024-08-11 18:13:46.223407: I tensorflow/core/kernels/data/shuffle_dataset_op.cc:450] ShuffleDatasetV3:51: Filling up shuffle buffer (this may take a while): 7430 of 10000\n",
      "2024-08-11 18:14:06.227129: I tensorflow/core/kernels/data/shuffle_dataset_op.cc:450] ShuffleDatasetV3:51: Filling up shuffle buffer (this may take a while): 7517 of 10000\n",
      "2024-08-11 18:14:26.185466: I tensorflow/core/kernels/data/shuffle_dataset_op.cc:450] ShuffleDatasetV3:51: Filling up shuffle buffer (this may take a while): 7637 of 10000\n",
      "2024-08-11 18:14:46.083151: I tensorflow/core/kernels/data/shuffle_dataset_op.cc:450] ShuffleDatasetV3:51: Filling up shuffle buffer (this may take a while): 7739 of 10000\n",
      "2024-08-11 18:14:56.136552: I tensorflow/core/kernels/data/shuffle_dataset_op.cc:450] ShuffleDatasetV3:51: Filling up shuffle buffer (this may take a while): 7801 of 10000\n",
      "2024-08-11 18:15:16.219103: I tensorflow/core/kernels/data/shuffle_dataset_op.cc:450] ShuffleDatasetV3:51: Filling up shuffle buffer (this may take a while): 7919 of 10000\n",
      "2024-08-11 18:15:36.149040: I tensorflow/core/kernels/data/shuffle_dataset_op.cc:450] ShuffleDatasetV3:51: Filling up shuffle buffer (this may take a while): 8033 of 10000\n",
      "2024-08-11 18:15:46.156242: I tensorflow/core/kernels/data/shuffle_dataset_op.cc:450] ShuffleDatasetV3:51: Filling up shuffle buffer (this may take a while): 8090 of 10000\n",
      "2024-08-11 18:16:06.180591: I tensorflow/core/kernels/data/shuffle_dataset_op.cc:450] ShuffleDatasetV3:51: Filling up shuffle buffer (this may take a while): 8188 of 10000\n",
      "2024-08-11 18:16:26.197044: I tensorflow/core/kernels/data/shuffle_dataset_op.cc:450] ShuffleDatasetV3:51: Filling up shuffle buffer (this may take a while): 8279 of 10000\n",
      "2024-08-11 18:16:46.102775: I tensorflow/core/kernels/data/shuffle_dataset_op.cc:450] ShuffleDatasetV3:51: Filling up shuffle buffer (this may take a while): 8390 of 10000\n",
      "2024-08-11 18:17:06.175445: I tensorflow/core/kernels/data/shuffle_dataset_op.cc:450] ShuffleDatasetV3:51: Filling up shuffle buffer (this may take a while): 8495 of 10000\n",
      "2024-08-11 18:17:26.074334: I tensorflow/core/kernels/data/shuffle_dataset_op.cc:450] ShuffleDatasetV3:51: Filling up shuffle buffer (this may take a while): 8604 of 10000\n",
      "2024-08-11 18:17:36.079816: I tensorflow/core/kernels/data/shuffle_dataset_op.cc:450] ShuffleDatasetV3:51: Filling up shuffle buffer (this may take a while): 8655 of 10000\n",
      "2024-08-11 18:17:46.204882: I tensorflow/core/kernels/data/shuffle_dataset_op.cc:450] ShuffleDatasetV3:51: Filling up shuffle buffer (this may take a while): 8711 of 10000\n",
      "2024-08-11 18:17:56.235568: I tensorflow/core/kernels/data/shuffle_dataset_op.cc:450] ShuffleDatasetV3:51: Filling up shuffle buffer (this may take a while): 8767 of 10000\n",
      "2024-08-11 18:18:06.350023: I tensorflow/core/kernels/data/shuffle_dataset_op.cc:450] ShuffleDatasetV3:51: Filling up shuffle buffer (this may take a while): 8813 of 10000\n",
      "2024-08-11 18:18:26.080893: I tensorflow/core/kernels/data/shuffle_dataset_op.cc:450] ShuffleDatasetV3:51: Filling up shuffle buffer (this may take a while): 8874 of 10000\n",
      "2024-08-11 18:18:46.158527: I tensorflow/core/kernels/data/shuffle_dataset_op.cc:450] ShuffleDatasetV3:51: Filling up shuffle buffer (this may take a while): 8993 of 10000\n",
      "2024-08-11 18:18:56.225478: I tensorflow/core/kernels/data/shuffle_dataset_op.cc:450] ShuffleDatasetV3:51: Filling up shuffle buffer (this may take a while): 9040 of 10000\n",
      "2024-08-11 18:19:16.224158: I tensorflow/core/kernels/data/shuffle_dataset_op.cc:450] ShuffleDatasetV3:51: Filling up shuffle buffer (this may take a while): 9154 of 10000\n",
      "2024-08-11 18:19:36.135942: I tensorflow/core/kernels/data/shuffle_dataset_op.cc:450] ShuffleDatasetV3:51: Filling up shuffle buffer (this may take a while): 9276 of 10000\n",
      "2024-08-11 18:19:46.176328: I tensorflow/core/kernels/data/shuffle_dataset_op.cc:450] ShuffleDatasetV3:51: Filling up shuffle buffer (this may take a while): 9336 of 10000\n",
      "2024-08-11 18:20:06.230492: I tensorflow/core/kernels/data/shuffle_dataset_op.cc:450] ShuffleDatasetV3:51: Filling up shuffle buffer (this may take a while): 9461 of 10000\n",
      "2024-08-11 18:20:26.337756: I tensorflow/core/kernels/data/shuffle_dataset_op.cc:450] ShuffleDatasetV3:51: Filling up shuffle buffer (this may take a while): 9553 of 10000\n",
      "2024-08-11 18:20:46.081707: I tensorflow/core/kernels/data/shuffle_dataset_op.cc:450] ShuffleDatasetV3:51: Filling up shuffle buffer (this may take a while): 9638 of 10000\n",
      "2024-08-11 18:20:56.149882: I tensorflow/core/kernels/data/shuffle_dataset_op.cc:450] ShuffleDatasetV3:51: Filling up shuffle buffer (this may take a while): 9697 of 10000\n",
      "2024-08-11 18:21:16.070255: I tensorflow/core/kernels/data/shuffle_dataset_op.cc:450] ShuffleDatasetV3:51: Filling up shuffle buffer (this may take a while): 9810 of 10000\n",
      "2024-08-11 18:21:26.077296: I tensorflow/core/kernels/data/shuffle_dataset_op.cc:450] ShuffleDatasetV3:51: Filling up shuffle buffer (this may take a while): 9869 of 10000\n",
      "2024-08-11 18:21:36.207642: I tensorflow/core/kernels/data/shuffle_dataset_op.cc:450] ShuffleDatasetV3:51: Filling up shuffle buffer (this may take a while): 9927 of 10000\n",
      "2024-08-11 18:21:48.292862: I tensorflow/core/kernels/data/shuffle_dataset_op.cc:480] Shuffle buffer filled.\n"
     ]
    },
    {
     "name": "stdout",
     "output_type": "stream",
     "text": [
      "\u001b[1m 347/1250\u001b[0m \u001b[32m━━━━━\u001b[0m\u001b[37m━━━━━━━━━━━━━━━\u001b[0m \u001b[1m4:15\u001b[0m 283ms/step - loss: 1.0323"
     ]
    }
   ],
   "source": [
    "#run this cell for training only after running this cell continue to rest\n",
    "\n",
    "\n",
    "siamese_net.fit(\n",
    "    train_dataset,\n",
    "    steps_per_epoch= 40000 //32,\n",
    "    epochs=200,\n",
    "    validation_data= test_dataset,\n",
    "    validation_steps= 505601 // 32,\n",
    "    callbacks=[checkpoint, early_stopping]\n",
    ")"
   ]
  },
  {
   "cell_type": "code",
   "execution_count": 142,
   "id": "8d1fd94c-e056-4954-bbec-aa5f69d65e2b",
   "metadata": {},
   "outputs": [],
   "source": [
    "def get_embeddings(model, data):\n",
    "    # Assuming your triplet model returns embeddings as output\n",
    "    embeddings = model.predict(data)\n",
    "    return embeddings"
   ]
  },
  {
   "cell_type": "code",
   "execution_count": 144,
   "id": "55c47384-1bf4-4a72-a112-bac95a26badd",
   "metadata": {},
   "outputs": [],
   "source": [
    "siamese_net.load_weights('hard_triplet_loss.keras')"
   ]
  },
  {
   "cell_type": "code",
   "execution_count": 150,
   "id": "d7191ca4-6469-4d7d-b983-cb9226170271",
   "metadata": {},
   "outputs": [],
   "source": [
    "# Create a new model that outputs the embeddings from the 'lambda_13' layer\n",
    "embedding_layer_model = Model(inputs=siamese_net.input, outputs=siamese_net.get_layer('lambda_13').output)\n"
   ]
  },
  {
   "cell_type": "code",
   "execution_count": 171,
   "id": "3bcbdc1f-481d-44e1-9522-0d4eb6f395f4",
   "metadata": {},
   "outputs": [
    {
     "name": "stdout",
     "output_type": "stream",
     "text": [
      "\u001b[1m9375/9375\u001b[0m \u001b[32m━━━━━━━━━━━━━━━━━━━━\u001b[0m\u001b[37m\u001b[0m \u001b[1m119s\u001b[0m 13ms/step\n",
      "(300000, 192)\n"
     ]
    }
   ],
   "source": [
    "\n",
    "test_inputs = [x_test, x_test, x_test, y_test_encoded]\n",
    "\n",
    "\n",
    "embeddings = embedding_layer_model.predict(test_inputs)\n",
    "\n",
    "\n",
    "print(embeddings.shape)  \n"
   ]
  },
  {
   "cell_type": "code",
   "execution_count": 172,
   "id": "7e670977-9462-4a15-a7a1-d6c7febac8d9",
   "metadata": {},
   "outputs": [
    {
     "name": "stdout",
     "output_type": "stream",
     "text": [
      "[-0.63065195  0.04775618  0.0390741   0.10822503  0.22937271  0.5066254\n",
      " -0.03596128  0.48922175 -0.45851117 -0.01138388  0.9659349   1.0595745\n",
      "  0.16325344  0.7572728   0.29060462  0.86168873 -0.3437023  -0.17131378\n",
      " -0.00163202  0.02548165 -0.81695795  0.69369334 -0.25416848 -0.73131084\n",
      "  0.4013377   0.00578809  0.5381066   0.6246824   0.05133454  0.46787748\n",
      "  0.7323313  -0.47880876 -0.05314825 -0.23023117  0.5915777   0.19675833\n",
      " -0.25168726  0.94892234 -0.03044458 -0.40458906 -0.7091601   0.9615751\n",
      "  0.01039604 -0.01759917  0.4106758  -0.098588   -0.5449029   0.26058838\n",
      "  0.08677091 -0.84537894  0.9278918   0.35117602 -0.49242735  0.3743624\n",
      "  0.08563002 -1.1969556   0.49526608 -0.6074199  -0.9971082   1.067253\n",
      " -0.01061572  0.20449808  0.8932692  -0.06417967]\n"
     ]
    }
   ],
   "source": [
    "print(embeddings[0, 0:64])"
   ]
  },
  {
   "cell_type": "code",
   "execution_count": 173,
   "id": "76c36325-a32c-43a3-b187-0ee39f0ef742",
   "metadata": {},
   "outputs": [
    {
     "name": "stdout",
     "output_type": "stream",
     "text": [
      "[-0.63065195  0.04775618  0.0390741   0.10822503  0.22937271  0.5066254\n",
      " -0.03596128  0.48922175 -0.45851117 -0.01138388  0.9659349   1.0595745\n",
      "  0.16325344  0.7572728   0.29060462  0.86168873 -0.3437023  -0.17131378\n",
      " -0.00163202  0.02548165 -0.81695795  0.69369334 -0.25416848 -0.73131084\n",
      "  0.4013377   0.00578809  0.5381066   0.6246824   0.05133454  0.46787748\n",
      "  0.7323313  -0.47880876 -0.05314825 -0.23023117  0.5915777   0.19675833\n",
      " -0.25168726  0.94892234 -0.03044458 -0.40458906 -0.7091601   0.9615751\n",
      "  0.01039604 -0.01759917  0.4106758  -0.098588   -0.5449029   0.26058838\n",
      "  0.08677091 -0.84537894  0.9278918   0.35117602 -0.49242735  0.3743624\n",
      "  0.08563002 -1.1969556   0.49526608 -0.6074199  -0.9971082   1.067253\n",
      " -0.01061572  0.20449808  0.8932692  -0.06417967]\n"
     ]
    }
   ],
   "source": [
    "print(embeddings[0, 64:128])\n"
   ]
  },
  {
   "cell_type": "code",
   "execution_count": 154,
   "id": "68aaee96-2712-41a7-a15f-71a1c21053d8",
   "metadata": {},
   "outputs": [],
   "source": [
    "model = Sequential()\n",
    "model.add(Dense(192, input_shape=(192,), activation='relu'))\n",
    "model.add(Dense(64, activation='relu'))\n",
    "model.add(Dense(32, activation='relu'))\n",
    "model.add(Dense(3, activation='softmax'))  \n",
    "\n",
    "model.compile(optimizer='adam', loss='categorical_crossentropy', metrics=['accuracy'])"
   ]
  },
  {
   "cell_type": "code",
   "execution_count": 155,
   "id": "6aadcf6b-2d90-46ac-8508-dbcb905620e2",
   "metadata": {},
   "outputs": [],
   "source": [
    "checkpoints_2 = ModelCheckpoint(\n",
    "    'best_model_1.keras',\n",
    "    monitor='val_loss',\n",
    "    save_best_only=True,\n",
    "    mode='min',\n",
    "    verbose=1\n",
    ")"
   ]
  },
  {
   "cell_type": "code",
   "execution_count": 158,
   "id": "a4b78394-76ca-4b7d-bde4-6ee0223907d3",
   "metadata": {},
   "outputs": [],
   "source": [
    "from keras.utils import to_categorical\n",
    "y_test = to_categorical(y_test)"
   ]
  },
  {
   "cell_type": "code",
   "execution_count": 159,
   "id": "4323a015-ac19-404f-ae34-2067aac0334a",
   "metadata": {},
   "outputs": [
    {
     "name": "stdout",
     "output_type": "stream",
     "text": [
      "Epoch 1/100\n"
     ]
    },
    {
     "ename": "ValueError",
     "evalue": "Creating variables on a non-first call to a function decorated with tf.function.",
     "output_type": "error",
     "traceback": [
      "\u001b[0;31m---------------------------------------------------------------------------\u001b[0m",
      "\u001b[0;31mValueError\u001b[0m                                Traceback (most recent call last)",
      "Cell \u001b[0;32mIn[159], line 1\u001b[0m\n\u001b[0;32m----> 1\u001b[0m \u001b[43mmodel\u001b[49m\u001b[38;5;241;43m.\u001b[39;49m\u001b[43mfit\u001b[49m\u001b[43m(\u001b[49m\n\u001b[1;32m      2\u001b[0m \u001b[43m    \u001b[49m\u001b[43membeddings\u001b[49m\u001b[43m,\u001b[49m\u001b[43m \u001b[49m\u001b[43my_test\u001b[49m\u001b[43m,\u001b[49m\n\u001b[1;32m      3\u001b[0m \u001b[43m    \u001b[49m\u001b[43mepochs\u001b[49m\u001b[38;5;241;43m=\u001b[39;49m\u001b[38;5;241;43m100\u001b[39;49m\u001b[43m,\u001b[49m\n\u001b[1;32m      4\u001b[0m \u001b[43m    \u001b[49m\u001b[43mbatch_size\u001b[49m\u001b[38;5;241;43m=\u001b[39;49m\u001b[38;5;241;43m32\u001b[39;49m\u001b[43m,\u001b[49m\n\u001b[1;32m      5\u001b[0m \u001b[43m    \u001b[49m\u001b[43mcallbacks\u001b[49m\u001b[43m \u001b[49m\u001b[38;5;241;43m=\u001b[39;49m\u001b[43m \u001b[49m\u001b[43m[\u001b[49m\u001b[43mcheckpoints_2\u001b[49m\u001b[43m]\u001b[49m\n\u001b[1;32m      6\u001b[0m \u001b[43m)\u001b[49m\n",
      "File \u001b[0;32m/opt/homebrew/lib/python3.11/site-packages/keras/src/utils/traceback_utils.py:122\u001b[0m, in \u001b[0;36mfilter_traceback.<locals>.error_handler\u001b[0;34m(*args, **kwargs)\u001b[0m\n\u001b[1;32m    119\u001b[0m     filtered_tb \u001b[38;5;241m=\u001b[39m _process_traceback_frames(e\u001b[38;5;241m.\u001b[39m__traceback__)\n\u001b[1;32m    120\u001b[0m     \u001b[38;5;66;03m# To get the full stack trace, call:\u001b[39;00m\n\u001b[1;32m    121\u001b[0m     \u001b[38;5;66;03m# `keras.config.disable_traceback_filtering()`\u001b[39;00m\n\u001b[0;32m--> 122\u001b[0m     \u001b[38;5;28;01mraise\u001b[39;00m e\u001b[38;5;241m.\u001b[39mwith_traceback(filtered_tb) \u001b[38;5;28;01mfrom\u001b[39;00m \u001b[38;5;28;01mNone\u001b[39;00m\n\u001b[1;32m    123\u001b[0m \u001b[38;5;28;01mfinally\u001b[39;00m:\n\u001b[1;32m    124\u001b[0m     \u001b[38;5;28;01mdel\u001b[39;00m filtered_tb\n",
      "File \u001b[0;32m/opt/homebrew/lib/python3.11/site-packages/keras/src/backend/tensorflow/trainer.py:118\u001b[0m, in \u001b[0;36mTensorFlowTrainer.make_train_function.<locals>.one_step_on_iterator\u001b[0;34m(iterator)\u001b[0m\n\u001b[1;32m    116\u001b[0m \u001b[38;5;250m\u001b[39m\u001b[38;5;124;03m\"\"\"Runs a single training step given a Dataset iterator.\"\"\"\u001b[39;00m\n\u001b[1;32m    117\u001b[0m data \u001b[38;5;241m=\u001b[39m \u001b[38;5;28mnext\u001b[39m(iterator)\n\u001b[0;32m--> 118\u001b[0m outputs \u001b[38;5;241m=\u001b[39m \u001b[38;5;28;43mself\u001b[39;49m\u001b[38;5;241;43m.\u001b[39;49m\u001b[43mdistribute_strategy\u001b[49m\u001b[38;5;241;43m.\u001b[39;49m\u001b[43mrun\u001b[49m\u001b[43m(\u001b[49m\n\u001b[1;32m    119\u001b[0m \u001b[43m    \u001b[49m\u001b[43mone_step_on_data\u001b[49m\u001b[43m,\u001b[49m\u001b[43m \u001b[49m\u001b[43margs\u001b[49m\u001b[38;5;241;43m=\u001b[39;49m\u001b[43m(\u001b[49m\u001b[43mdata\u001b[49m\u001b[43m,\u001b[49m\u001b[43m)\u001b[49m\n\u001b[1;32m    120\u001b[0m \u001b[43m\u001b[49m\u001b[43m)\u001b[49m\n\u001b[1;32m    121\u001b[0m outputs \u001b[38;5;241m=\u001b[39m reduce_per_replica(\n\u001b[1;32m    122\u001b[0m     outputs,\n\u001b[1;32m    123\u001b[0m     \u001b[38;5;28mself\u001b[39m\u001b[38;5;241m.\u001b[39mdistribute_strategy,\n\u001b[1;32m    124\u001b[0m     reduction\u001b[38;5;241m=\u001b[39m\u001b[38;5;28mself\u001b[39m\u001b[38;5;241m.\u001b[39mdistribute_reduction_method,\n\u001b[1;32m    125\u001b[0m )\n\u001b[1;32m    126\u001b[0m \u001b[38;5;28;01mreturn\u001b[39;00m outputs\n",
      "\u001b[0;31mValueError\u001b[0m: Creating variables on a non-first call to a function decorated with tf.function."
     ]
    }
   ],
   "source": [
    "model.fit(\n",
    "    embeddings, y_test,\n",
    "    epochs=100,\n",
    "    batch_size=32,\n",
    "    callbacks = [checkpoints_2]\n",
    ")"
   ]
  },
  {
   "cell_type": "code",
   "execution_count": 162,
   "id": "f334b74b-15f8-4d23-be67-9337e99bfa52",
   "metadata": {},
   "outputs": [
    {
     "data": {
      "text/plain": [
       "(300000, 3)"
      ]
     },
     "execution_count": 162,
     "metadata": {},
     "output_type": "execute_result"
    }
   ],
   "source": [
    "y_test.shape"
   ]
  },
  {
   "cell_type": "code",
   "execution_count": 163,
   "id": "719869d4-6837-45b2-9b50-b1b9617233d5",
   "metadata": {},
   "outputs": [
    {
     "name": "stdout",
     "output_type": "stream",
     "text": [
      "Epoch 1/100\n",
      "\u001b[1m9375/9375\u001b[0m \u001b[32m━━━━━━━━━━━━━━━━━━━━\u001b[0m\u001b[37m\u001b[0m \u001b[1m3s\u001b[0m 335us/step - accuracy: 0.5809 - loss: 0.5109\n",
      "Epoch 2/100\n",
      "\u001b[1m 445/9375\u001b[0m \u001b[37m━━━━━━━━━━━━━━━━━━━━\u001b[0m \u001b[1m3s\u001b[0m 339us/step - accuracy: 0.6418 - loss: 0.4694"
     ]
    },
    {
     "name": "stderr",
     "output_type": "stream",
     "text": [
      "/opt/homebrew/lib/python3.11/site-packages/keras/src/callbacks/model_checkpoint.py:206: UserWarning: Can save best model only with val_loss available, skipping.\n",
      "  self._save_model(epoch=epoch, batch=None, logs=logs)\n"
     ]
    },
    {
     "name": "stdout",
     "output_type": "stream",
     "text": [
      "\u001b[1m9375/9375\u001b[0m \u001b[32m━━━━━━━━━━━━━━━━━━━━\u001b[0m\u001b[37m\u001b[0m \u001b[1m3s\u001b[0m 336us/step - accuracy: 0.6461 - loss: 0.4653\n",
      "Epoch 3/100\n",
      "\u001b[1m9375/9375\u001b[0m \u001b[32m━━━━━━━━━━━━━━━━━━━━\u001b[0m\u001b[37m\u001b[0m \u001b[1m3s\u001b[0m 338us/step - accuracy: 0.6586 - loss: 0.4521\n",
      "Epoch 4/100\n",
      "\u001b[1m9375/9375\u001b[0m \u001b[32m━━━━━━━━━━━━━━━━━━━━\u001b[0m\u001b[37m\u001b[0m \u001b[1m3s\u001b[0m 339us/step - accuracy: 0.6676 - loss: 0.4426\n",
      "Epoch 5/100\n",
      "\u001b[1m9375/9375\u001b[0m \u001b[32m━━━━━━━━━━━━━━━━━━━━\u001b[0m\u001b[37m\u001b[0m \u001b[1m3s\u001b[0m 337us/step - accuracy: 0.6749 - loss: 0.4349\n",
      "Epoch 6/100\n",
      "\u001b[1m9375/9375\u001b[0m \u001b[32m━━━━━━━━━━━━━━━━━━━━\u001b[0m\u001b[37m\u001b[0m \u001b[1m3s\u001b[0m 340us/step - accuracy: 0.6820 - loss: 0.4285\n",
      "Epoch 7/100\n",
      "\u001b[1m9375/9375\u001b[0m \u001b[32m━━━━━━━━━━━━━━━━━━━━\u001b[0m\u001b[37m\u001b[0m \u001b[1m3s\u001b[0m 339us/step - accuracy: 0.6838 - loss: 0.4261\n",
      "Epoch 8/100\n",
      "\u001b[1m9375/9375\u001b[0m \u001b[32m━━━━━━━━━━━━━━━━━━━━\u001b[0m\u001b[37m\u001b[0m \u001b[1m3s\u001b[0m 338us/step - accuracy: 0.6873 - loss: 0.4219\n",
      "Epoch 9/100\n",
      "\u001b[1m9375/9375\u001b[0m \u001b[32m━━━━━━━━━━━━━━━━━━━━\u001b[0m\u001b[37m\u001b[0m \u001b[1m3s\u001b[0m 339us/step - accuracy: 0.6903 - loss: 0.4185\n",
      "Epoch 10/100\n",
      "\u001b[1m9375/9375\u001b[0m \u001b[32m━━━━━━━━━━━━━━━━━━━━\u001b[0m\u001b[37m\u001b[0m \u001b[1m3s\u001b[0m 340us/step - accuracy: 0.6926 - loss: 0.4166\n",
      "Epoch 11/100\n",
      "\u001b[1m9375/9375\u001b[0m \u001b[32m━━━━━━━━━━━━━━━━━━━━\u001b[0m\u001b[37m\u001b[0m \u001b[1m3s\u001b[0m 338us/step - accuracy: 0.6954 - loss: 0.4143\n",
      "Epoch 12/100\n",
      "\u001b[1m9375/9375\u001b[0m \u001b[32m━━━━━━━━━━━━━━━━━━━━\u001b[0m\u001b[37m\u001b[0m \u001b[1m3s\u001b[0m 340us/step - accuracy: 0.6966 - loss: 0.4120\n",
      "Epoch 13/100\n",
      "\u001b[1m9375/9375\u001b[0m \u001b[32m━━━━━━━━━━━━━━━━━━━━\u001b[0m\u001b[37m\u001b[0m \u001b[1m3s\u001b[0m 341us/step - accuracy: 0.6962 - loss: 0.4123\n",
      "Epoch 14/100\n",
      "\u001b[1m9375/9375\u001b[0m \u001b[32m━━━━━━━━━━━━━━━━━━━━\u001b[0m\u001b[37m\u001b[0m \u001b[1m3s\u001b[0m 341us/step - accuracy: 0.6990 - loss: 0.4092\n",
      "Epoch 15/100\n",
      "\u001b[1m9375/9375\u001b[0m \u001b[32m━━━━━━━━━━━━━━━━━━━━\u001b[0m\u001b[37m\u001b[0m \u001b[1m3s\u001b[0m 338us/step - accuracy: 0.7004 - loss: 0.4083\n",
      "Epoch 16/100\n",
      "\u001b[1m9375/9375\u001b[0m \u001b[32m━━━━━━━━━━━━━━━━━━━━\u001b[0m\u001b[37m\u001b[0m \u001b[1m3s\u001b[0m 339us/step - accuracy: 0.7003 - loss: 0.4073\n",
      "Epoch 17/100\n",
      "\u001b[1m9375/9375\u001b[0m \u001b[32m━━━━━━━━━━━━━━━━━━━━\u001b[0m\u001b[37m\u001b[0m \u001b[1m3s\u001b[0m 339us/step - accuracy: 0.7027 - loss: 0.4052\n",
      "Epoch 18/100\n",
      "\u001b[1m9375/9375\u001b[0m \u001b[32m━━━━━━━━━━━━━━━━━━━━\u001b[0m\u001b[37m\u001b[0m \u001b[1m3s\u001b[0m 343us/step - accuracy: 0.7029 - loss: 0.4049\n",
      "Epoch 19/100\n",
      "\u001b[1m9375/9375\u001b[0m \u001b[32m━━━━━━━━━━━━━━━━━━━━\u001b[0m\u001b[37m\u001b[0m \u001b[1m4s\u001b[0m 382us/step - accuracy: 0.7070 - loss: 0.4017\n",
      "Epoch 20/100\n",
      "\u001b[1m9375/9375\u001b[0m \u001b[32m━━━━━━━━━━━━━━━━━━━━\u001b[0m\u001b[37m\u001b[0m \u001b[1m3s\u001b[0m 337us/step - accuracy: 0.7057 - loss: 0.4021\n",
      "Epoch 21/100\n",
      "\u001b[1m9375/9375\u001b[0m \u001b[32m━━━━━━━━━━━━━━━━━━━━\u001b[0m\u001b[37m\u001b[0m \u001b[1m3s\u001b[0m 341us/step - accuracy: 0.7070 - loss: 0.4019\n",
      "Epoch 22/100\n",
      "\u001b[1m9375/9375\u001b[0m \u001b[32m━━━━━━━━━━━━━━━━━━━━\u001b[0m\u001b[37m\u001b[0m \u001b[1m3s\u001b[0m 338us/step - accuracy: 0.7067 - loss: 0.4016\n",
      "Epoch 23/100\n",
      "\u001b[1m9375/9375\u001b[0m \u001b[32m━━━━━━━━━━━━━━━━━━━━\u001b[0m\u001b[37m\u001b[0m \u001b[1m3s\u001b[0m 343us/step - accuracy: 0.7086 - loss: 0.3997\n",
      "Epoch 24/100\n",
      "\u001b[1m9375/9375\u001b[0m \u001b[32m━━━━━━━━━━━━━━━━━━━━\u001b[0m\u001b[37m\u001b[0m \u001b[1m3s\u001b[0m 350us/step - accuracy: 0.7106 - loss: 0.3975\n",
      "Epoch 25/100\n",
      "\u001b[1m9375/9375\u001b[0m \u001b[32m━━━━━━━━━━━━━━━━━━━━\u001b[0m\u001b[37m\u001b[0m \u001b[1m3s\u001b[0m 344us/step - accuracy: 0.7090 - loss: 0.3998\n",
      "Epoch 26/100\n",
      "\u001b[1m9375/9375\u001b[0m \u001b[32m━━━━━━━━━━━━━━━━━━━━\u001b[0m\u001b[37m\u001b[0m \u001b[1m3s\u001b[0m 343us/step - accuracy: 0.7120 - loss: 0.3973\n",
      "Epoch 27/100\n",
      "\u001b[1m9375/9375\u001b[0m \u001b[32m━━━━━━━━━━━━━━━━━━━━\u001b[0m\u001b[37m\u001b[0m \u001b[1m3s\u001b[0m 343us/step - accuracy: 0.7127 - loss: 0.3961\n",
      "Epoch 28/100\n",
      "\u001b[1m9375/9375\u001b[0m \u001b[32m━━━━━━━━━━━━━━━━━━━━\u001b[0m\u001b[37m\u001b[0m \u001b[1m3s\u001b[0m 341us/step - accuracy: 0.7111 - loss: 0.3970\n",
      "Epoch 29/100\n",
      "\u001b[1m9375/9375\u001b[0m \u001b[32m━━━━━━━━━━━━━━━━━━━━\u001b[0m\u001b[37m\u001b[0m \u001b[1m3s\u001b[0m 341us/step - accuracy: 0.7134 - loss: 0.3947\n",
      "Epoch 30/100\n",
      "\u001b[1m9375/9375\u001b[0m \u001b[32m━━━━━━━━━━━━━━━━━━━━\u001b[0m\u001b[37m\u001b[0m \u001b[1m3s\u001b[0m 341us/step - accuracy: 0.7143 - loss: 0.3935\n",
      "Epoch 31/100\n",
      "\u001b[1m9375/9375\u001b[0m \u001b[32m━━━━━━━━━━━━━━━━━━━━\u001b[0m\u001b[37m\u001b[0m \u001b[1m3s\u001b[0m 341us/step - accuracy: 0.7147 - loss: 0.3930\n",
      "Epoch 32/100\n",
      "\u001b[1m9375/9375\u001b[0m \u001b[32m━━━━━━━━━━━━━━━━━━━━\u001b[0m\u001b[37m\u001b[0m \u001b[1m3s\u001b[0m 345us/step - accuracy: 0.7147 - loss: 0.3936\n",
      "Epoch 33/100\n",
      "\u001b[1m9375/9375\u001b[0m \u001b[32m━━━━━━━━━━━━━━━━━━━━\u001b[0m\u001b[37m\u001b[0m \u001b[1m3s\u001b[0m 339us/step - accuracy: 0.7138 - loss: 0.3944\n",
      "Epoch 34/100\n",
      "\u001b[1m9375/9375\u001b[0m \u001b[32m━━━━━━━━━━━━━━━━━━━━\u001b[0m\u001b[37m\u001b[0m \u001b[1m3s\u001b[0m 342us/step - accuracy: 0.7162 - loss: 0.3909\n",
      "Epoch 35/100\n",
      "\u001b[1m9375/9375\u001b[0m \u001b[32m━━━━━━━━━━━━━━━━━━━━\u001b[0m\u001b[37m\u001b[0m \u001b[1m3s\u001b[0m 342us/step - accuracy: 0.7162 - loss: 0.3929\n",
      "Epoch 36/100\n",
      "\u001b[1m9375/9375\u001b[0m \u001b[32m━━━━━━━━━━━━━━━━━━━━\u001b[0m\u001b[37m\u001b[0m \u001b[1m3s\u001b[0m 343us/step - accuracy: 0.7153 - loss: 0.3926\n",
      "Epoch 37/100\n",
      "\u001b[1m9375/9375\u001b[0m \u001b[32m━━━━━━━━━━━━━━━━━━━━\u001b[0m\u001b[37m\u001b[0m \u001b[1m3s\u001b[0m 342us/step - accuracy: 0.7183 - loss: 0.3907\n",
      "Epoch 38/100\n",
      "\u001b[1m9375/9375\u001b[0m \u001b[32m━━━━━━━━━━━━━━━━━━━━\u001b[0m\u001b[37m\u001b[0m \u001b[1m4s\u001b[0m 394us/step - accuracy: 0.7181 - loss: 0.3904\n",
      "Epoch 39/100\n",
      "\u001b[1m9375/9375\u001b[0m \u001b[32m━━━━━━━━━━━━━━━━━━━━\u001b[0m\u001b[37m\u001b[0m \u001b[1m3s\u001b[0m 344us/step - accuracy: 0.7184 - loss: 0.3895\n",
      "Epoch 40/100\n",
      "\u001b[1m9375/9375\u001b[0m \u001b[32m━━━━━━━━━━━━━━━━━━━━\u001b[0m\u001b[37m\u001b[0m \u001b[1m3s\u001b[0m 343us/step - accuracy: 0.7174 - loss: 0.3909\n",
      "Epoch 41/100\n",
      "\u001b[1m9375/9375\u001b[0m \u001b[32m━━━━━━━━━━━━━━━━━━━━\u001b[0m\u001b[37m\u001b[0m \u001b[1m3s\u001b[0m 344us/step - accuracy: 0.7206 - loss: 0.3884\n",
      "Epoch 42/100\n",
      "\u001b[1m9375/9375\u001b[0m \u001b[32m━━━━━━━━━━━━━━━━━━━━\u001b[0m\u001b[37m\u001b[0m \u001b[1m3s\u001b[0m 346us/step - accuracy: 0.7200 - loss: 0.3887\n",
      "Epoch 43/100\n",
      "\u001b[1m9375/9375\u001b[0m \u001b[32m━━━━━━━━━━━━━━━━━━━━\u001b[0m\u001b[37m\u001b[0m \u001b[1m3s\u001b[0m 343us/step - accuracy: 0.7220 - loss: 0.3873\n",
      "Epoch 44/100\n",
      "\u001b[1m9375/9375\u001b[0m \u001b[32m━━━━━━━━━━━━━━━━━━━━\u001b[0m\u001b[37m\u001b[0m \u001b[1m3s\u001b[0m 349us/step - accuracy: 0.7208 - loss: 0.3881\n",
      "Epoch 45/100\n",
      "\u001b[1m9375/9375\u001b[0m \u001b[32m━━━━━━━━━━━━━━━━━━━━\u001b[0m\u001b[37m\u001b[0m \u001b[1m4s\u001b[0m 377us/step - accuracy: 0.7205 - loss: 0.3883\n",
      "Epoch 46/100\n",
      "\u001b[1m9375/9375\u001b[0m \u001b[32m━━━━━━━━━━━━━━━━━━━━\u001b[0m\u001b[37m\u001b[0m \u001b[1m3s\u001b[0m 348us/step - accuracy: 0.7217 - loss: 0.3879\n",
      "Epoch 47/100\n",
      "\u001b[1m9375/9375\u001b[0m \u001b[32m━━━━━━━━━━━━━━━━━━━━\u001b[0m\u001b[37m\u001b[0m \u001b[1m3s\u001b[0m 366us/step - accuracy: 0.7201 - loss: 0.3891\n",
      "Epoch 48/100\n",
      "\u001b[1m9375/9375\u001b[0m \u001b[32m━━━━━━━━━━━━━━━━━━━━\u001b[0m\u001b[37m\u001b[0m \u001b[1m3s\u001b[0m 364us/step - accuracy: 0.7218 - loss: 0.3866\n",
      "Epoch 49/100\n",
      "\u001b[1m9375/9375\u001b[0m \u001b[32m━━━━━━━━━━━━━━━━━━━━\u001b[0m\u001b[37m\u001b[0m \u001b[1m3s\u001b[0m 347us/step - accuracy: 0.7220 - loss: 0.3875\n",
      "Epoch 50/100\n",
      "\u001b[1m9375/9375\u001b[0m \u001b[32m━━━━━━━━━━━━━━━━━━━━\u001b[0m\u001b[37m\u001b[0m \u001b[1m3s\u001b[0m 357us/step - accuracy: 0.7230 - loss: 0.3863\n",
      "Epoch 51/100\n",
      "\u001b[1m9375/9375\u001b[0m \u001b[32m━━━━━━━━━━━━━━━━━━━━\u001b[0m\u001b[37m\u001b[0m \u001b[1m3s\u001b[0m 346us/step - accuracy: 0.7228 - loss: 0.3856\n",
      "Epoch 52/100\n",
      "\u001b[1m9375/9375\u001b[0m \u001b[32m━━━━━━━━━━━━━━━━━━━━\u001b[0m\u001b[37m\u001b[0m \u001b[1m3s\u001b[0m 346us/step - accuracy: 0.7237 - loss: 0.3847\n",
      "Epoch 53/100\n",
      "\u001b[1m9375/9375\u001b[0m \u001b[32m━━━━━━━━━━━━━━━━━━━━\u001b[0m\u001b[37m\u001b[0m \u001b[1m3s\u001b[0m 353us/step - accuracy: 0.7252 - loss: 0.3835\n",
      "Epoch 54/100\n",
      "\u001b[1m9375/9375\u001b[0m \u001b[32m━━━━━━━━━━━━━━━━━━━━\u001b[0m\u001b[37m\u001b[0m \u001b[1m3s\u001b[0m 352us/step - accuracy: 0.7250 - loss: 0.3847\n",
      "Epoch 55/100\n",
      "\u001b[1m9375/9375\u001b[0m \u001b[32m━━━━━━━━━━━━━━━━━━━━\u001b[0m\u001b[37m\u001b[0m \u001b[1m3s\u001b[0m 353us/step - accuracy: 0.7250 - loss: 0.3841\n",
      "Epoch 56/100\n",
      "\u001b[1m9375/9375\u001b[0m \u001b[32m━━━━━━━━━━━━━━━━━━━━\u001b[0m\u001b[37m\u001b[0m \u001b[1m3s\u001b[0m 347us/step - accuracy: 0.7260 - loss: 0.3822\n",
      "Epoch 57/100\n",
      "\u001b[1m9375/9375\u001b[0m \u001b[32m━━━━━━━━━━━━━━━━━━━━\u001b[0m\u001b[37m\u001b[0m \u001b[1m3s\u001b[0m 348us/step - accuracy: 0.7250 - loss: 0.3836\n",
      "Epoch 58/100\n",
      "\u001b[1m9375/9375\u001b[0m \u001b[32m━━━━━━━━━━━━━━━━━━━━\u001b[0m\u001b[37m\u001b[0m \u001b[1m3s\u001b[0m 346us/step - accuracy: 0.7261 - loss: 0.3826\n",
      "Epoch 59/100\n",
      "\u001b[1m9375/9375\u001b[0m \u001b[32m━━━━━━━━━━━━━━━━━━━━\u001b[0m\u001b[37m\u001b[0m \u001b[1m3s\u001b[0m 346us/step - accuracy: 0.7282 - loss: 0.3813\n",
      "Epoch 60/100\n",
      "\u001b[1m9375/9375\u001b[0m \u001b[32m━━━━━━━━━━━━━━━━━━━━\u001b[0m\u001b[37m\u001b[0m \u001b[1m3s\u001b[0m 350us/step - accuracy: 0.7278 - loss: 0.3804\n",
      "Epoch 61/100\n",
      "\u001b[1m9375/9375\u001b[0m \u001b[32m━━━━━━━━━━━━━━━━━━━━\u001b[0m\u001b[37m\u001b[0m \u001b[1m3s\u001b[0m 347us/step - accuracy: 0.7274 - loss: 0.3819\n",
      "Epoch 62/100\n",
      "\u001b[1m9375/9375\u001b[0m \u001b[32m━━━━━━━━━━━━━━━━━━━━\u001b[0m\u001b[37m\u001b[0m \u001b[1m3s\u001b[0m 350us/step - accuracy: 0.7286 - loss: 0.3802\n",
      "Epoch 63/100\n",
      "\u001b[1m9375/9375\u001b[0m \u001b[32m━━━━━━━━━━━━━━━━━━━━\u001b[0m\u001b[37m\u001b[0m \u001b[1m3s\u001b[0m 346us/step - accuracy: 0.7303 - loss: 0.3797\n",
      "Epoch 64/100\n",
      "\u001b[1m9375/9375\u001b[0m \u001b[32m━━━━━━━━━━━━━━━━━━━━\u001b[0m\u001b[37m\u001b[0m \u001b[1m3s\u001b[0m 350us/step - accuracy: 0.7278 - loss: 0.3808\n",
      "Epoch 65/100\n",
      "\u001b[1m9375/9375\u001b[0m \u001b[32m━━━━━━━━━━━━━━━━━━━━\u001b[0m\u001b[37m\u001b[0m \u001b[1m3s\u001b[0m 357us/step - accuracy: 0.7288 - loss: 0.3798\n",
      "Epoch 66/100\n",
      "\u001b[1m9375/9375\u001b[0m \u001b[32m━━━━━━━━━━━━━━━━━━━━\u001b[0m\u001b[37m\u001b[0m \u001b[1m3s\u001b[0m 346us/step - accuracy: 0.7311 - loss: 0.3788\n",
      "Epoch 67/100\n",
      "\u001b[1m9375/9375\u001b[0m \u001b[32m━━━━━━━━━━━━━━━━━━━━\u001b[0m\u001b[37m\u001b[0m \u001b[1m3s\u001b[0m 348us/step - accuracy: 0.7312 - loss: 0.3780\n",
      "Epoch 68/100\n",
      "\u001b[1m9375/9375\u001b[0m \u001b[32m━━━━━━━━━━━━━━━━━━━━\u001b[0m\u001b[37m\u001b[0m \u001b[1m3s\u001b[0m 345us/step - accuracy: 0.7305 - loss: 0.3776\n",
      "Epoch 69/100\n",
      "\u001b[1m9375/9375\u001b[0m \u001b[32m━━━━━━━━━━━━━━━━━━━━\u001b[0m\u001b[37m\u001b[0m \u001b[1m3s\u001b[0m 349us/step - accuracy: 0.7340 - loss: 0.3761\n",
      "Epoch 70/100\n",
      "\u001b[1m9375/9375\u001b[0m \u001b[32m━━━━━━━━━━━━━━━━━━━━\u001b[0m\u001b[37m\u001b[0m \u001b[1m3s\u001b[0m 371us/step - accuracy: 0.7336 - loss: 0.3762\n",
      "Epoch 71/100\n",
      "\u001b[1m9375/9375\u001b[0m \u001b[32m━━━━━━━━━━━━━━━━━━━━\u001b[0m\u001b[37m\u001b[0m \u001b[1m3s\u001b[0m 367us/step - accuracy: 0.7319 - loss: 0.3772\n",
      "Epoch 72/100\n",
      "\u001b[1m9375/9375\u001b[0m \u001b[32m━━━━━━━━━━━━━━━━━━━━\u001b[0m\u001b[37m\u001b[0m \u001b[1m3s\u001b[0m 361us/step - accuracy: 0.7329 - loss: 0.3760\n",
      "Epoch 73/100\n",
      "\u001b[1m9375/9375\u001b[0m \u001b[32m━━━━━━━━━━━━━━━━━━━━\u001b[0m\u001b[37m\u001b[0m \u001b[1m3s\u001b[0m 347us/step - accuracy: 0.7347 - loss: 0.3747\n",
      "Epoch 74/100\n",
      "\u001b[1m9375/9375\u001b[0m \u001b[32m━━━━━━━━━━━━━━━━━━━━\u001b[0m\u001b[37m\u001b[0m \u001b[1m3s\u001b[0m 356us/step - accuracy: 0.7359 - loss: 0.3734\n",
      "Epoch 75/100\n",
      "\u001b[1m9375/9375\u001b[0m \u001b[32m━━━━━━━━━━━━━━━━━━━━\u001b[0m\u001b[37m\u001b[0m \u001b[1m4s\u001b[0m 395us/step - accuracy: 0.7333 - loss: 0.3751\n",
      "Epoch 76/100\n",
      "\u001b[1m9375/9375\u001b[0m \u001b[32m━━━━━━━━━━━━━━━━━━━━\u001b[0m\u001b[37m\u001b[0m \u001b[1m4s\u001b[0m 390us/step - accuracy: 0.7348 - loss: 0.3744\n",
      "Epoch 77/100\n",
      "\u001b[1m9375/9375\u001b[0m \u001b[32m━━━━━━━━━━━━━━━━━━━━\u001b[0m\u001b[37m\u001b[0m \u001b[1m4s\u001b[0m 391us/step - accuracy: 0.7345 - loss: 0.3744\n",
      "Epoch 78/100\n",
      "\u001b[1m9375/9375\u001b[0m \u001b[32m━━━━━━━━━━━━━━━━━━━━\u001b[0m\u001b[37m\u001b[0m \u001b[1m3s\u001b[0m 363us/step - accuracy: 0.7356 - loss: 0.3730\n",
      "Epoch 79/100\n",
      "\u001b[1m9375/9375\u001b[0m \u001b[32m━━━━━━━━━━━━━━━━━━━━\u001b[0m\u001b[37m\u001b[0m \u001b[1m3s\u001b[0m 346us/step - accuracy: 0.7355 - loss: 0.3734\n",
      "Epoch 80/100\n",
      "\u001b[1m9375/9375\u001b[0m \u001b[32m━━━━━━━━━━━━━━━━━━━━\u001b[0m\u001b[37m\u001b[0m \u001b[1m4s\u001b[0m 389us/step - accuracy: 0.7361 - loss: 0.3731\n",
      "Epoch 81/100\n",
      "\u001b[1m9375/9375\u001b[0m \u001b[32m━━━━━━━━━━━━━━━━━━━━\u001b[0m\u001b[37m\u001b[0m \u001b[1m3s\u001b[0m 360us/step - accuracy: 0.7352 - loss: 0.3735\n",
      "Epoch 82/100\n",
      "\u001b[1m9375/9375\u001b[0m \u001b[32m━━━━━━━━━━━━━━━━━━━━\u001b[0m\u001b[37m\u001b[0m \u001b[1m4s\u001b[0m 389us/step - accuracy: 0.7381 - loss: 0.3716\n",
      "Epoch 83/100\n",
      "\u001b[1m9375/9375\u001b[0m \u001b[32m━━━━━━━━━━━━━━━━━━━━\u001b[0m\u001b[37m\u001b[0m \u001b[1m3s\u001b[0m 355us/step - accuracy: 0.7394 - loss: 0.3704\n",
      "Epoch 84/100\n",
      "\u001b[1m9375/9375\u001b[0m \u001b[32m━━━━━━━━━━━━━━━━━━━━\u001b[0m\u001b[37m\u001b[0m \u001b[1m4s\u001b[0m 387us/step - accuracy: 0.7401 - loss: 0.3696\n",
      "Epoch 85/100\n",
      "\u001b[1m9375/9375\u001b[0m \u001b[32m━━━━━━━━━━━━━━━━━━━━\u001b[0m\u001b[37m\u001b[0m \u001b[1m4s\u001b[0m 387us/step - accuracy: 0.7388 - loss: 0.3709\n",
      "Epoch 86/100\n",
      "\u001b[1m9375/9375\u001b[0m \u001b[32m━━━━━━━━━━━━━━━━━━━━\u001b[0m\u001b[37m\u001b[0m \u001b[1m4s\u001b[0m 384us/step - accuracy: 0.7399 - loss: 0.3691\n",
      "Epoch 87/100\n",
      "\u001b[1m9375/9375\u001b[0m \u001b[32m━━━━━━━━━━━━━━━━━━━━\u001b[0m\u001b[37m\u001b[0m \u001b[1m4s\u001b[0m 382us/step - accuracy: 0.7394 - loss: 0.3694\n",
      "Epoch 88/100\n",
      "\u001b[1m9375/9375\u001b[0m \u001b[32m━━━━━━━━━━━━━━━━━━━━\u001b[0m\u001b[37m\u001b[0m \u001b[1m3s\u001b[0m 355us/step - accuracy: 0.7410 - loss: 0.3683\n",
      "Epoch 89/100\n",
      "\u001b[1m9375/9375\u001b[0m \u001b[32m━━━━━━━━━━━━━━━━━━━━\u001b[0m\u001b[37m\u001b[0m \u001b[1m4s\u001b[0m 402us/step - accuracy: 0.7417 - loss: 0.3683\n",
      "Epoch 90/100\n",
      "\u001b[1m9375/9375\u001b[0m \u001b[32m━━━━━━━━━━━━━━━━━━━━\u001b[0m\u001b[37m\u001b[0m \u001b[1m3s\u001b[0m 356us/step - accuracy: 0.7408 - loss: 0.3678\n",
      "Epoch 91/100\n",
      "\u001b[1m9375/9375\u001b[0m \u001b[32m━━━━━━━━━━━━━━━━━━━━\u001b[0m\u001b[37m\u001b[0m \u001b[1m4s\u001b[0m 415us/step - accuracy: 0.7408 - loss: 0.3680\n",
      "Epoch 92/100\n",
      "\u001b[1m9375/9375\u001b[0m \u001b[32m━━━━━━━━━━━━━━━━━━━━\u001b[0m\u001b[37m\u001b[0m \u001b[1m3s\u001b[0m 371us/step - accuracy: 0.7420 - loss: 0.3673\n",
      "Epoch 93/100\n",
      "\u001b[1m9375/9375\u001b[0m \u001b[32m━━━━━━━━━━━━━━━━━━━━\u001b[0m\u001b[37m\u001b[0m \u001b[1m3s\u001b[0m 357us/step - accuracy: 0.7433 - loss: 0.3665\n",
      "Epoch 94/100\n",
      "\u001b[1m9375/9375\u001b[0m \u001b[32m━━━━━━━━━━━━━━━━━━━━\u001b[0m\u001b[37m\u001b[0m \u001b[1m4s\u001b[0m 387us/step - accuracy: 0.7425 - loss: 0.3663\n",
      "Epoch 95/100\n",
      "\u001b[1m9375/9375\u001b[0m \u001b[32m━━━━━━━━━━━━━━━━━━━━\u001b[0m\u001b[37m\u001b[0m \u001b[1m4s\u001b[0m 381us/step - accuracy: 0.7437 - loss: 0.3659\n",
      "Epoch 96/100\n",
      "\u001b[1m9375/9375\u001b[0m \u001b[32m━━━━━━━━━━━━━━━━━━━━\u001b[0m\u001b[37m\u001b[0m \u001b[1m4s\u001b[0m 385us/step - accuracy: 0.7420 - loss: 0.3662\n",
      "Epoch 97/100\n",
      "\u001b[1m9375/9375\u001b[0m \u001b[32m━━━━━━━━━━━━━━━━━━━━\u001b[0m\u001b[37m\u001b[0m \u001b[1m3s\u001b[0m 357us/step - accuracy: 0.7442 - loss: 0.3653\n",
      "Epoch 98/100\n",
      "\u001b[1m9375/9375\u001b[0m \u001b[32m━━━━━━━━━━━━━━━━━━━━\u001b[0m\u001b[37m\u001b[0m \u001b[1m4s\u001b[0m 384us/step - accuracy: 0.7437 - loss: 0.3650\n",
      "Epoch 99/100\n",
      "\u001b[1m9375/9375\u001b[0m \u001b[32m━━━━━━━━━━━━━━━━━━━━\u001b[0m\u001b[37m\u001b[0m \u001b[1m4s\u001b[0m 383us/step - accuracy: 0.7436 - loss: 0.3653\n",
      "Epoch 100/100\n",
      "\u001b[1m9375/9375\u001b[0m \u001b[32m━━━━━━━━━━━━━━━━━━━━\u001b[0m\u001b[37m\u001b[0m \u001b[1m3s\u001b[0m 349us/step - accuracy: 0.7435 - loss: 0.3644\n"
     ]
    },
    {
     "data": {
      "text/plain": [
       "<keras.src.callbacks.history.History at 0x537f60290>"
      ]
     },
     "execution_count": 163,
     "metadata": {},
     "output_type": "execute_result"
    }
   ],
   "source": [
    "input_dim = embeddings.shape[1]\n",
    "\n",
    "# Define a simple classifier model\n",
    "classifier_model = Sequential([\n",
    "    Dense(128, activation='relu', input_shape=(input_dim,)),\n",
    "    Dense(64, activation='relu'),\n",
    "    Dense(3, activation='sigmoid')  # Change the output layer as per your requirement\n",
    "])\n",
    "\n",
    "classifier_model.compile(optimizer='adam', loss='binary_crossentropy', metrics=['accuracy'])\n",
    "\n",
    "# Define a checkpoint callback\n",
    "checkpoints_2 = ModelCheckpoint(filepath='classifier_model.keras', save_best_only=True)\n",
    "\n",
    "# Train the model\n",
    "classifier_model.fit(\n",
    "    embeddings, y_test,\n",
    "    epochs=100,\n",
    "    batch_size=32,\n",
    "    callbacks=[checkpoints_2]\n",
    ")"
   ]
  },
  {
   "cell_type": "code",
   "execution_count": 168,
   "id": "0b43de87-37f1-49f5-9446-39387ae27e38",
   "metadata": {},
   "outputs": [
    {
     "name": "stdout",
     "output_type": "stream",
     "text": [
      "\u001b[1m9375/9375\u001b[0m \u001b[32m━━━━━━━━━━━━━━━━━━━━\u001b[0m\u001b[37m\u001b[0m \u001b[1m2s\u001b[0m 208us/step\n"
     ]
    }
   ],
   "source": [
    "y_pred = classifier_model.predict(embeddings)\n",
    "y_pred_classes = np.argmax(y_pred, axis=1)\n",
    "y_test_classes = np.argmax(y_test, axis=1)"
   ]
  },
  {
   "cell_type": "code",
   "execution_count": 169,
   "id": "83c56ad2-fd44-417e-8a7d-47b375ce8c55",
   "metadata": {},
   "outputs": [
    {
     "name": "stdout",
     "output_type": "stream",
     "text": [
      "              precision    recall  f1-score   support\n",
      "\n",
      "           0       0.85      0.81      0.83    100000\n",
      "           1       0.69      0.74      0.71    100000\n",
      "           2       0.70      0.69      0.70    100000\n",
      "\n",
      "    accuracy                           0.75    300000\n",
      "   macro avg       0.75      0.75      0.75    300000\n",
      "weighted avg       0.75      0.75      0.75    300000\n",
      "\n"
     ]
    }
   ],
   "source": [
    "from sklearn.metrics import classification_report\n",
    "report = classification_report(y_test_classes, y_pred_classes)\n",
    "print(report)"
   ]
  },
  {
   "cell_type": "code",
   "execution_count": 170,
   "id": "b2dca26a-8f3e-4462-9b40-78dd1be028de",
   "metadata": {},
   "outputs": [
    {
     "ename": "KeyboardInterrupt",
     "evalue": "",
     "output_type": "error",
     "traceback": [
      "\u001b[0;31m---------------------------------------------------------------------------\u001b[0m",
      "\u001b[0;31mKeyboardInterrupt\u001b[0m                         Traceback (most recent call last)",
      "Cell \u001b[0;32mIn[170], line 5\u001b[0m\n\u001b[1;32m      3\u001b[0m \u001b[38;5;66;03m# Reduce dimensions to 3 using t-SNE\u001b[39;00m\n\u001b[1;32m      4\u001b[0m tsne \u001b[38;5;241m=\u001b[39m TSNE(n_components\u001b[38;5;241m=\u001b[39m\u001b[38;5;241m3\u001b[39m)\n\u001b[0;32m----> 5\u001b[0m reduced_embeddings \u001b[38;5;241m=\u001b[39m \u001b[43mtsne\u001b[49m\u001b[38;5;241;43m.\u001b[39;49m\u001b[43mfit_transform\u001b[49m\u001b[43m(\u001b[49m\u001b[43membeddings\u001b[49m\u001b[43m)\u001b[49m\n",
      "File \u001b[0;32m/opt/homebrew/lib/python3.11/site-packages/sklearn/utils/_set_output.py:295\u001b[0m, in \u001b[0;36m_wrap_method_output.<locals>.wrapped\u001b[0;34m(self, X, *args, **kwargs)\u001b[0m\n\u001b[1;32m    293\u001b[0m \u001b[38;5;129m@wraps\u001b[39m(f)\n\u001b[1;32m    294\u001b[0m \u001b[38;5;28;01mdef\u001b[39;00m \u001b[38;5;21mwrapped\u001b[39m(\u001b[38;5;28mself\u001b[39m, X, \u001b[38;5;241m*\u001b[39margs, \u001b[38;5;241m*\u001b[39m\u001b[38;5;241m*\u001b[39mkwargs):\n\u001b[0;32m--> 295\u001b[0m     data_to_wrap \u001b[38;5;241m=\u001b[39m \u001b[43mf\u001b[49m\u001b[43m(\u001b[49m\u001b[38;5;28;43mself\u001b[39;49m\u001b[43m,\u001b[49m\u001b[43m \u001b[49m\u001b[43mX\u001b[49m\u001b[43m,\u001b[49m\u001b[43m \u001b[49m\u001b[38;5;241;43m*\u001b[39;49m\u001b[43margs\u001b[49m\u001b[43m,\u001b[49m\u001b[43m \u001b[49m\u001b[38;5;241;43m*\u001b[39;49m\u001b[38;5;241;43m*\u001b[39;49m\u001b[43mkwargs\u001b[49m\u001b[43m)\u001b[49m\n\u001b[1;32m    296\u001b[0m     \u001b[38;5;28;01mif\u001b[39;00m \u001b[38;5;28misinstance\u001b[39m(data_to_wrap, \u001b[38;5;28mtuple\u001b[39m):\n\u001b[1;32m    297\u001b[0m         \u001b[38;5;66;03m# only wrap the first output for cross decomposition\u001b[39;00m\n\u001b[1;32m    298\u001b[0m         return_tuple \u001b[38;5;241m=\u001b[39m (\n\u001b[1;32m    299\u001b[0m             _wrap_data_with_container(method, data_to_wrap[\u001b[38;5;241m0\u001b[39m], X, \u001b[38;5;28mself\u001b[39m),\n\u001b[1;32m    300\u001b[0m             \u001b[38;5;241m*\u001b[39mdata_to_wrap[\u001b[38;5;241m1\u001b[39m:],\n\u001b[1;32m    301\u001b[0m         )\n",
      "File \u001b[0;32m/opt/homebrew/lib/python3.11/site-packages/sklearn/base.py:1474\u001b[0m, in \u001b[0;36m_fit_context.<locals>.decorator.<locals>.wrapper\u001b[0;34m(estimator, *args, **kwargs)\u001b[0m\n\u001b[1;32m   1467\u001b[0m     estimator\u001b[38;5;241m.\u001b[39m_validate_params()\n\u001b[1;32m   1469\u001b[0m \u001b[38;5;28;01mwith\u001b[39;00m config_context(\n\u001b[1;32m   1470\u001b[0m     skip_parameter_validation\u001b[38;5;241m=\u001b[39m(\n\u001b[1;32m   1471\u001b[0m         prefer_skip_nested_validation \u001b[38;5;129;01mor\u001b[39;00m global_skip_validation\n\u001b[1;32m   1472\u001b[0m     )\n\u001b[1;32m   1473\u001b[0m ):\n\u001b[0;32m-> 1474\u001b[0m     \u001b[38;5;28;01mreturn\u001b[39;00m \u001b[43mfit_method\u001b[49m\u001b[43m(\u001b[49m\u001b[43mestimator\u001b[49m\u001b[43m,\u001b[49m\u001b[43m \u001b[49m\u001b[38;5;241;43m*\u001b[39;49m\u001b[43margs\u001b[49m\u001b[43m,\u001b[49m\u001b[43m \u001b[49m\u001b[38;5;241;43m*\u001b[39;49m\u001b[38;5;241;43m*\u001b[39;49m\u001b[43mkwargs\u001b[49m\u001b[43m)\u001b[49m\n",
      "File \u001b[0;32m/opt/homebrew/lib/python3.11/site-packages/sklearn/manifold/_t_sne.py:1136\u001b[0m, in \u001b[0;36mTSNE.fit_transform\u001b[0;34m(self, X, y)\u001b[0m\n\u001b[1;32m   1115\u001b[0m \u001b[38;5;250m\u001b[39m\u001b[38;5;124;03m\"\"\"Fit X into an embedded space and return that transformed output.\u001b[39;00m\n\u001b[1;32m   1116\u001b[0m \n\u001b[1;32m   1117\u001b[0m \u001b[38;5;124;03mParameters\u001b[39;00m\n\u001b[0;32m   (...)\u001b[0m\n\u001b[1;32m   1133\u001b[0m \u001b[38;5;124;03m    Embedding of the training data in low-dimensional space.\u001b[39;00m\n\u001b[1;32m   1134\u001b[0m \u001b[38;5;124;03m\"\"\"\u001b[39;00m\n\u001b[1;32m   1135\u001b[0m \u001b[38;5;28mself\u001b[39m\u001b[38;5;241m.\u001b[39m_check_params_vs_input(X)\n\u001b[0;32m-> 1136\u001b[0m embedding \u001b[38;5;241m=\u001b[39m \u001b[38;5;28;43mself\u001b[39;49m\u001b[38;5;241;43m.\u001b[39;49m\u001b[43m_fit\u001b[49m\u001b[43m(\u001b[49m\u001b[43mX\u001b[49m\u001b[43m)\u001b[49m\n\u001b[1;32m   1137\u001b[0m \u001b[38;5;28mself\u001b[39m\u001b[38;5;241m.\u001b[39membedding_ \u001b[38;5;241m=\u001b[39m embedding\n\u001b[1;32m   1138\u001b[0m \u001b[38;5;28;01mreturn\u001b[39;00m \u001b[38;5;28mself\u001b[39m\u001b[38;5;241m.\u001b[39membedding_\n",
      "File \u001b[0;32m/opt/homebrew/lib/python3.11/site-packages/sklearn/manifold/_t_sne.py:1026\u001b[0m, in \u001b[0;36mTSNE._fit\u001b[0;34m(self, X, skip_num_points)\u001b[0m\n\u001b[1;32m   1020\u001b[0m \u001b[38;5;66;03m# Degrees of freedom of the Student's t-distribution. The suggestion\u001b[39;00m\n\u001b[1;32m   1021\u001b[0m \u001b[38;5;66;03m# degrees_of_freedom = n_components - 1 comes from\u001b[39;00m\n\u001b[1;32m   1022\u001b[0m \u001b[38;5;66;03m# \"Learning a Parametric Embedding by Preserving Local Structure\"\u001b[39;00m\n\u001b[1;32m   1023\u001b[0m \u001b[38;5;66;03m# Laurens van der Maaten, 2009.\u001b[39;00m\n\u001b[1;32m   1024\u001b[0m degrees_of_freedom \u001b[38;5;241m=\u001b[39m \u001b[38;5;28mmax\u001b[39m(\u001b[38;5;28mself\u001b[39m\u001b[38;5;241m.\u001b[39mn_components \u001b[38;5;241m-\u001b[39m \u001b[38;5;241m1\u001b[39m, \u001b[38;5;241m1\u001b[39m)\n\u001b[0;32m-> 1026\u001b[0m \u001b[38;5;28;01mreturn\u001b[39;00m \u001b[38;5;28;43mself\u001b[39;49m\u001b[38;5;241;43m.\u001b[39;49m\u001b[43m_tsne\u001b[49m\u001b[43m(\u001b[49m\n\u001b[1;32m   1027\u001b[0m \u001b[43m    \u001b[49m\u001b[43mP\u001b[49m\u001b[43m,\u001b[49m\n\u001b[1;32m   1028\u001b[0m \u001b[43m    \u001b[49m\u001b[43mdegrees_of_freedom\u001b[49m\u001b[43m,\u001b[49m\n\u001b[1;32m   1029\u001b[0m \u001b[43m    \u001b[49m\u001b[43mn_samples\u001b[49m\u001b[43m,\u001b[49m\n\u001b[1;32m   1030\u001b[0m \u001b[43m    \u001b[49m\u001b[43mX_embedded\u001b[49m\u001b[38;5;241;43m=\u001b[39;49m\u001b[43mX_embedded\u001b[49m\u001b[43m,\u001b[49m\n\u001b[1;32m   1031\u001b[0m \u001b[43m    \u001b[49m\u001b[43mneighbors\u001b[49m\u001b[38;5;241;43m=\u001b[39;49m\u001b[43mneighbors_nn\u001b[49m\u001b[43m,\u001b[49m\n\u001b[1;32m   1032\u001b[0m \u001b[43m    \u001b[49m\u001b[43mskip_num_points\u001b[49m\u001b[38;5;241;43m=\u001b[39;49m\u001b[43mskip_num_points\u001b[49m\u001b[43m,\u001b[49m\n\u001b[1;32m   1033\u001b[0m \u001b[43m\u001b[49m\u001b[43m)\u001b[49m\n",
      "File \u001b[0;32m/opt/homebrew/lib/python3.11/site-packages/sklearn/manifold/_t_sne.py:1078\u001b[0m, in \u001b[0;36mTSNE._tsne\u001b[0;34m(self, P, degrees_of_freedom, n_samples, X_embedded, neighbors, skip_num_points)\u001b[0m\n\u001b[1;32m   1075\u001b[0m \u001b[38;5;66;03m# Learning schedule (part 1): do 250 iteration with lower momentum but\u001b[39;00m\n\u001b[1;32m   1076\u001b[0m \u001b[38;5;66;03m# higher learning rate controlled via the early exaggeration parameter\u001b[39;00m\n\u001b[1;32m   1077\u001b[0m P \u001b[38;5;241m*\u001b[39m\u001b[38;5;241m=\u001b[39m \u001b[38;5;28mself\u001b[39m\u001b[38;5;241m.\u001b[39mearly_exaggeration\n\u001b[0;32m-> 1078\u001b[0m params, kl_divergence, it \u001b[38;5;241m=\u001b[39m \u001b[43m_gradient_descent\u001b[49m\u001b[43m(\u001b[49m\u001b[43mobj_func\u001b[49m\u001b[43m,\u001b[49m\u001b[43m \u001b[49m\u001b[43mparams\u001b[49m\u001b[43m,\u001b[49m\u001b[43m \u001b[49m\u001b[38;5;241;43m*\u001b[39;49m\u001b[38;5;241;43m*\u001b[39;49m\u001b[43mopt_args\u001b[49m\u001b[43m)\u001b[49m\n\u001b[1;32m   1079\u001b[0m \u001b[38;5;28;01mif\u001b[39;00m \u001b[38;5;28mself\u001b[39m\u001b[38;5;241m.\u001b[39mverbose:\n\u001b[1;32m   1080\u001b[0m     \u001b[38;5;28mprint\u001b[39m(\n\u001b[1;32m   1081\u001b[0m         \u001b[38;5;124m\"\u001b[39m\u001b[38;5;124m[t-SNE] KL divergence after \u001b[39m\u001b[38;5;132;01m%d\u001b[39;00m\u001b[38;5;124m iterations with early exaggeration: \u001b[39m\u001b[38;5;132;01m%f\u001b[39;00m\u001b[38;5;124m\"\u001b[39m\n\u001b[1;32m   1082\u001b[0m         \u001b[38;5;241m%\u001b[39m (it \u001b[38;5;241m+\u001b[39m \u001b[38;5;241m1\u001b[39m, kl_divergence)\n\u001b[1;32m   1083\u001b[0m     )\n",
      "File \u001b[0;32m/opt/homebrew/lib/python3.11/site-packages/sklearn/manifold/_t_sne.py:402\u001b[0m, in \u001b[0;36m_gradient_descent\u001b[0;34m(objective, p0, it, n_iter, n_iter_check, n_iter_without_progress, momentum, learning_rate, min_gain, min_grad_norm, verbose, args, kwargs)\u001b[0m\n\u001b[1;32m    399\u001b[0m \u001b[38;5;66;03m# only compute the error when needed\u001b[39;00m\n\u001b[1;32m    400\u001b[0m kwargs[\u001b[38;5;124m\"\u001b[39m\u001b[38;5;124mcompute_error\u001b[39m\u001b[38;5;124m\"\u001b[39m] \u001b[38;5;241m=\u001b[39m check_convergence \u001b[38;5;129;01mor\u001b[39;00m i \u001b[38;5;241m==\u001b[39m n_iter \u001b[38;5;241m-\u001b[39m \u001b[38;5;241m1\u001b[39m\n\u001b[0;32m--> 402\u001b[0m error, grad \u001b[38;5;241m=\u001b[39m \u001b[43mobjective\u001b[49m\u001b[43m(\u001b[49m\u001b[43mp\u001b[49m\u001b[43m,\u001b[49m\u001b[43m \u001b[49m\u001b[38;5;241;43m*\u001b[39;49m\u001b[43margs\u001b[49m\u001b[43m,\u001b[49m\u001b[43m \u001b[49m\u001b[38;5;241;43m*\u001b[39;49m\u001b[38;5;241;43m*\u001b[39;49m\u001b[43mkwargs\u001b[49m\u001b[43m)\u001b[49m\n\u001b[1;32m    404\u001b[0m inc \u001b[38;5;241m=\u001b[39m update \u001b[38;5;241m*\u001b[39m grad \u001b[38;5;241m<\u001b[39m \u001b[38;5;241m0.0\u001b[39m\n\u001b[1;32m    405\u001b[0m dec \u001b[38;5;241m=\u001b[39m np\u001b[38;5;241m.\u001b[39minvert(inc)\n",
      "File \u001b[0;32m/opt/homebrew/lib/python3.11/site-packages/sklearn/manifold/_t_sne.py:283\u001b[0m, in \u001b[0;36m_kl_divergence_bh\u001b[0;34m(params, P, degrees_of_freedom, n_samples, n_components, angle, skip_num_points, verbose, compute_error, num_threads)\u001b[0m\n\u001b[1;32m    280\u001b[0m indptr \u001b[38;5;241m=\u001b[39m P\u001b[38;5;241m.\u001b[39mindptr\u001b[38;5;241m.\u001b[39mastype(np\u001b[38;5;241m.\u001b[39mint64, copy\u001b[38;5;241m=\u001b[39m\u001b[38;5;28;01mFalse\u001b[39;00m)\n\u001b[1;32m    282\u001b[0m grad \u001b[38;5;241m=\u001b[39m np\u001b[38;5;241m.\u001b[39mzeros(X_embedded\u001b[38;5;241m.\u001b[39mshape, dtype\u001b[38;5;241m=\u001b[39mnp\u001b[38;5;241m.\u001b[39mfloat32)\n\u001b[0;32m--> 283\u001b[0m error \u001b[38;5;241m=\u001b[39m \u001b[43m_barnes_hut_tsne\u001b[49m\u001b[38;5;241;43m.\u001b[39;49m\u001b[43mgradient\u001b[49m\u001b[43m(\u001b[49m\n\u001b[1;32m    284\u001b[0m \u001b[43m    \u001b[49m\u001b[43mval_P\u001b[49m\u001b[43m,\u001b[49m\n\u001b[1;32m    285\u001b[0m \u001b[43m    \u001b[49m\u001b[43mX_embedded\u001b[49m\u001b[43m,\u001b[49m\n\u001b[1;32m    286\u001b[0m \u001b[43m    \u001b[49m\u001b[43mneighbors\u001b[49m\u001b[43m,\u001b[49m\n\u001b[1;32m    287\u001b[0m \u001b[43m    \u001b[49m\u001b[43mindptr\u001b[49m\u001b[43m,\u001b[49m\n\u001b[1;32m    288\u001b[0m \u001b[43m    \u001b[49m\u001b[43mgrad\u001b[49m\u001b[43m,\u001b[49m\n\u001b[1;32m    289\u001b[0m \u001b[43m    \u001b[49m\u001b[43mangle\u001b[49m\u001b[43m,\u001b[49m\n\u001b[1;32m    290\u001b[0m \u001b[43m    \u001b[49m\u001b[43mn_components\u001b[49m\u001b[43m,\u001b[49m\n\u001b[1;32m    291\u001b[0m \u001b[43m    \u001b[49m\u001b[43mverbose\u001b[49m\u001b[43m,\u001b[49m\n\u001b[1;32m    292\u001b[0m \u001b[43m    \u001b[49m\u001b[43mdof\u001b[49m\u001b[38;5;241;43m=\u001b[39;49m\u001b[43mdegrees_of_freedom\u001b[49m\u001b[43m,\u001b[49m\n\u001b[1;32m    293\u001b[0m \u001b[43m    \u001b[49m\u001b[43mcompute_error\u001b[49m\u001b[38;5;241;43m=\u001b[39;49m\u001b[43mcompute_error\u001b[49m\u001b[43m,\u001b[49m\n\u001b[1;32m    294\u001b[0m \u001b[43m    \u001b[49m\u001b[43mnum_threads\u001b[49m\u001b[38;5;241;43m=\u001b[39;49m\u001b[43mnum_threads\u001b[49m\u001b[43m,\u001b[49m\n\u001b[1;32m    295\u001b[0m \u001b[43m\u001b[49m\u001b[43m)\u001b[49m\n\u001b[1;32m    296\u001b[0m c \u001b[38;5;241m=\u001b[39m \u001b[38;5;241m2.0\u001b[39m \u001b[38;5;241m*\u001b[39m (degrees_of_freedom \u001b[38;5;241m+\u001b[39m \u001b[38;5;241m1.0\u001b[39m) \u001b[38;5;241m/\u001b[39m degrees_of_freedom\n\u001b[1;32m    297\u001b[0m grad \u001b[38;5;241m=\u001b[39m grad\u001b[38;5;241m.\u001b[39mravel()\n",
      "\u001b[0;31mKeyboardInterrupt\u001b[0m: "
     ]
    }
   ],
   "source": [
    "from sklearn.manifold import TSNE\n",
    "\n",
    "# Reduce dimensions to 3 using t-SNE\n",
    "tsne = TSNE(n_components=3)\n",
    "reduced_embeddings = tsne.fit_transform(embeddings)\n"
   ]
  },
  {
   "cell_type": "code",
   "execution_count": null,
   "id": "4d35bdd1-00fd-4936-9145-24244fa38830",
   "metadata": {},
   "outputs": [],
   "source": [
    "import matplotlib.pyplot as plt\n",
    "from mpl_toolkits.mplot3d import Axes3D\n",
    "\n",
    "# Create a 3D scatter plot\n",
    "fig = plt.figure()\n",
    "ax = fig.add_subplot(111, projection='3d')\n",
    "\n",
    "# Scatter plot\n",
    "scatter = ax.scatter(reduced_embeddings[:, 0], reduced_embeddings[:, 1], reduced_embeddings[:, 2], c=labels, cmap='viridis')\n",
    "\n",
    "# Add legend\n",
    "legend = ax.legend(*scatter.legend_elements(), title=\"Classes\")\n",
    "ax.add_artist(legend)\n",
    "\n",
    "# Add labels\n",
    "ax.set_xlabel('dilantin 1')\n",
    "ax.set_ylabel('keppra 2')\n",
    "ax.set_zlabel('none 3')\n",
    "plt.title('Seizure Med Visualization')\n",
    "\n",
    "plt.show()\n"
   ]
  }
 ],
 "metadata": {
  "kernelspec": {
   "display_name": "Python 3 (ipykernel)",
   "language": "python",
   "name": "python3"
  },
  "language_info": {
   "codemirror_mode": {
    "name": "ipython",
    "version": 3
   },
   "file_extension": ".py",
   "mimetype": "text/x-python",
   "name": "python",
   "nbconvert_exporter": "python",
   "pygments_lexer": "ipython3",
   "version": "3.11.9"
  }
 },
 "nbformat": 4,
 "nbformat_minor": 5
}
